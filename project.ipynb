{
 "cells": [
  {
   "cell_type": "raw",
   "metadata": {
    "vscode": {
     "languageId": "raw"
    }
   },
   "source": [
    "---\n",
    "title: STATS 3DA3\n",
    "subtitle: Project Chronic Kidney Disease Classification Challenge\n",
    "author: '\\protect\\parbox{\\textwidth}{\\protect\\centering Group 3\\\\ Xiangdong Wang (400335790)\\\\ Lingyun Huang (Student ID)\\\\ Jingyang Li (Student ID)}'\n",
    "date: 04/18/2024\n",
    "format: pdf\n",
    "header-includes:\n",
    "   - \\usepackage{amsmath}\n",
    "   - \\usepackage{bbm}\n",
    "   - \\usepackage{array}\n",
    "   - \\usepackage{multirow}\n",
    "   - \\usepackage{graphicx}\n",
    "   - \\usepackage{float}\n",
    "   - \\usepackage{apacite}\n",
    "   - \\usepackage{natbib}\n",
    "execute: \n",
    "  echo: true\n",
    "fontsize: 11pt\n",
    "geometry: margin = 1in\n",
    "linestretch: 1.5\n",
    "---\n"
   ]
  },
  {
   "cell_type": "markdown",
   "metadata": {},
   "source": [
    "\\newpage"
   ]
  },
  {
   "cell_type": "code",
   "execution_count": 50,
   "metadata": {},
   "outputs": [
    {
     "name": "stdout",
     "output_type": "stream",
     "text": [
      "Requirement already satisfied: ucimlrepo in /Library/Frameworks/Python.framework/Versions/3.11/lib/python3.11/site-packages (0.0.6)\n",
      "Note: you may need to restart the kernel to use updated packages.\n"
     ]
    }
   ],
   "source": [
    "pip install ucimlrepo"
   ]
  },
  {
   "cell_type": "code",
   "execution_count": 2,
   "metadata": {},
   "outputs": [],
   "source": [
    "from ucimlrepo import fetch_ucirepo \n",
    "import pandas as pd\n",
    "import seaborn as sns\n",
    "import matplotlib.pyplot as plt\n"
   ]
  },
  {
   "cell_type": "markdown",
   "metadata": {},
   "source": [
    "### **1. Classification Problem Identification**"
   ]
  },
  {
   "cell_type": "markdown",
   "metadata": {},
   "source": [
    "Dataset is used from the [Early Stage of Indians Chronic Kidney Disease (CKD)](https://archive.ics.uci.edu/dataset/336/chronic+kidney+disease) project, which comprises data on 250 early-stage CKD patients and 150 healthy controls.\n",
    "\n",
    "In this assignment, machine learning (ML) techniques have been deployed to predict, diagnose, and treat chronic kidney disease (CKD). "
   ]
  },
  {
   "cell_type": "code",
   "execution_count": 3,
   "metadata": {},
   "outputs": [
    {
     "data": {
      "text/html": [
       "<div>\n",
       "<style scoped>\n",
       "    .dataframe tbody tr th:only-of-type {\n",
       "        vertical-align: middle;\n",
       "    }\n",
       "\n",
       "    .dataframe tbody tr th {\n",
       "        vertical-align: top;\n",
       "    }\n",
       "\n",
       "    .dataframe thead th {\n",
       "        text-align: right;\n",
       "    }\n",
       "</style>\n",
       "<table border=\"1\" class=\"dataframe\">\n",
       "  <thead>\n",
       "    <tr style=\"text-align: right;\">\n",
       "      <th></th>\n",
       "      <th>age</th>\n",
       "      <th>bp</th>\n",
       "      <th>sg</th>\n",
       "      <th>al</th>\n",
       "      <th>su</th>\n",
       "      <th>rbc</th>\n",
       "      <th>pc</th>\n",
       "      <th>pcc</th>\n",
       "      <th>ba</th>\n",
       "      <th>bgr</th>\n",
       "      <th>...</th>\n",
       "      <th>pcv</th>\n",
       "      <th>wbcc</th>\n",
       "      <th>rbcc</th>\n",
       "      <th>htn</th>\n",
       "      <th>dm</th>\n",
       "      <th>cad</th>\n",
       "      <th>appet</th>\n",
       "      <th>pe</th>\n",
       "      <th>ane</th>\n",
       "      <th>class</th>\n",
       "    </tr>\n",
       "  </thead>\n",
       "  <tbody>\n",
       "    <tr>\n",
       "      <th>0</th>\n",
       "      <td>48.0</td>\n",
       "      <td>80.0</td>\n",
       "      <td>1.02</td>\n",
       "      <td>1.0</td>\n",
       "      <td>0.0</td>\n",
       "      <td>NaN</td>\n",
       "      <td>normal</td>\n",
       "      <td>notpresent</td>\n",
       "      <td>notpresent</td>\n",
       "      <td>121.0</td>\n",
       "      <td>...</td>\n",
       "      <td>44.0</td>\n",
       "      <td>7800.0</td>\n",
       "      <td>5.2</td>\n",
       "      <td>yes</td>\n",
       "      <td>yes</td>\n",
       "      <td>no</td>\n",
       "      <td>good</td>\n",
       "      <td>no</td>\n",
       "      <td>no</td>\n",
       "      <td>ckd</td>\n",
       "    </tr>\n",
       "    <tr>\n",
       "      <th>1</th>\n",
       "      <td>7.0</td>\n",
       "      <td>50.0</td>\n",
       "      <td>1.02</td>\n",
       "      <td>4.0</td>\n",
       "      <td>0.0</td>\n",
       "      <td>NaN</td>\n",
       "      <td>normal</td>\n",
       "      <td>notpresent</td>\n",
       "      <td>notpresent</td>\n",
       "      <td>NaN</td>\n",
       "      <td>...</td>\n",
       "      <td>38.0</td>\n",
       "      <td>6000.0</td>\n",
       "      <td>NaN</td>\n",
       "      <td>no</td>\n",
       "      <td>no</td>\n",
       "      <td>no</td>\n",
       "      <td>good</td>\n",
       "      <td>no</td>\n",
       "      <td>no</td>\n",
       "      <td>ckd</td>\n",
       "    </tr>\n",
       "  </tbody>\n",
       "</table>\n",
       "<p>2 rows × 25 columns</p>\n",
       "</div>"
      ],
      "text/plain": [
       "    age    bp    sg   al   su  rbc      pc         pcc          ba    bgr  \\\n",
       "0  48.0  80.0  1.02  1.0  0.0  NaN  normal  notpresent  notpresent  121.0   \n",
       "1   7.0  50.0  1.02  4.0  0.0  NaN  normal  notpresent  notpresent    NaN   \n",
       "\n",
       "   ...   pcv    wbcc  rbcc  htn   dm  cad  appet  pe ane class  \n",
       "0  ...  44.0  7800.0   5.2  yes  yes   no   good  no  no   ckd  \n",
       "1  ...  38.0  6000.0   NaN   no   no   no   good  no  no   ckd  \n",
       "\n",
       "[2 rows x 25 columns]"
      ]
     },
     "execution_count": 3,
     "metadata": {},
     "output_type": "execute_result"
    }
   ],
   "source": [
    "## Load Dataset\n",
    "data_url = 'https://archive.ics.uci.edu/static/public/336/data.csv'\n",
    "df = pd.read_csv(data_url)\n",
    "df.head(2)"
   ]
  },
  {
   "cell_type": "code",
   "execution_count": 53,
   "metadata": {},
   "outputs": [
    {
     "name": "stdout",
     "output_type": "stream",
     "text": [
      "{'uci_id': 336, 'name': 'Chronic Kidney Disease', 'repository_url': 'https://archive.ics.uci.edu/dataset/336/chronic+kidney+disease', 'data_url': 'https://archive.ics.uci.edu/static/public/336/data.csv', 'abstract': 'This dataset can be used to predict the chronic kidney disease and it can be collected from the hospital nearly 2 months of period.', 'area': 'Other', 'tasks': ['Classification'], 'characteristics': ['Multivariate'], 'num_instances': 400, 'num_features': 24, 'feature_types': ['Real'], 'demographics': ['Age'], 'target_col': ['class'], 'index_col': None, 'has_missing_values': 'yes', 'missing_values_symbol': 'NaN', 'year_of_dataset_creation': 2015, 'last_updated': 'Mon Mar 04 2024', 'dataset_doi': '10.24432/C5G020', 'creators': ['L. Rubini', 'P. Soundarapandian', 'P. Eswaran'], 'intro_paper': None, 'additional_info': {'summary': 'We use the following representation to collect the dataset\\r\\n                        age\\t\\t-\\tage\\t\\r\\n\\t\\t\\tbp\\t\\t-\\tblood pressure\\r\\n\\t\\t\\tsg\\t\\t-\\tspecific gravity\\r\\n\\t\\t\\tal\\t\\t-   \\talbumin\\r\\n\\t\\t\\tsu\\t\\t-\\tsugar\\r\\n\\t\\t\\trbc\\t\\t-\\tred blood cells\\r\\n\\t\\t\\tpc\\t\\t-\\tpus cell\\r\\n\\t\\t\\tpcc\\t\\t-\\tpus cell clumps\\r\\n\\t\\t\\tba\\t\\t-\\tbacteria\\r\\n\\t\\t\\tbgr\\t\\t-\\tblood glucose random\\r\\n\\t\\t\\tbu\\t\\t-\\tblood urea\\r\\n\\t\\t\\tsc\\t\\t-\\tserum creatinine\\r\\n\\t\\t\\tsod\\t\\t-\\tsodium\\r\\n\\t\\t\\tpot\\t\\t-\\tpotassium\\r\\n\\t\\t\\themo\\t\\t-\\themoglobin\\r\\n\\t\\t\\tpcv\\t\\t-\\tpacked cell volume\\r\\n\\t\\t\\twc\\t\\t-\\twhite blood cell count\\r\\n\\t\\t\\trc\\t\\t-\\tred blood cell count\\r\\n\\t\\t\\thtn\\t\\t-\\thypertension\\r\\n\\t\\t\\tdm\\t\\t-\\tdiabetes mellitus\\r\\n\\t\\t\\tcad\\t\\t-\\tcoronary artery disease\\r\\n\\t\\t\\tappet\\t\\t-\\tappetite\\r\\n\\t\\t\\tpe\\t\\t-\\tpedal edema\\r\\n\\t\\t\\tane\\t\\t-\\tanemia\\r\\n\\t\\t\\tclass\\t\\t-\\tclass\\t', 'purpose': None, 'funded_by': None, 'instances_represent': None, 'recommended_data_splits': None, 'sensitive_data': None, 'preprocessing_description': None, 'variable_info': 'We use 24 + class = 25 ( 11  numeric ,14  nominal)\\r\\n1.Age(numerical)\\r\\n  \\t  \\tage in years\\r\\n \\t2.Blood Pressure(numerical)\\r\\n\\t       \\tbp in mm/Hg\\r\\n \\t3.Specific Gravity(nominal)\\r\\n\\t  \\tsg - (1.005,1.010,1.015,1.020,1.025)\\r\\n \\t4.Albumin(nominal)\\r\\n\\t\\tal - (0,1,2,3,4,5)\\r\\n \\t5.Sugar(nominal)\\r\\n\\t\\tsu - (0,1,2,3,4,5)\\r\\n \\t6.Red Blood Cells(nominal)\\r\\n\\t\\trbc - (normal,abnormal)\\r\\n \\t7.Pus Cell (nominal)\\r\\n\\t\\tpc - (normal,abnormal)\\r\\n \\t8.Pus Cell clumps(nominal)\\r\\n\\t\\tpcc - (present,notpresent)\\r\\n \\t9.Bacteria(nominal)\\r\\n\\t\\tba  - (present,notpresent)\\r\\n \\t10.Blood Glucose Random(numerical)\\t\\t\\r\\n\\t\\tbgr in mgs/dl\\r\\n \\t11.Blood Urea(numerical)\\t\\r\\n\\t\\tbu in mgs/dl\\r\\n \\t12.Serum Creatinine(numerical)\\t\\r\\n\\t\\tsc in mgs/dl\\r\\n \\t13.Sodium(numerical)\\r\\n\\t\\tsod in mEq/L\\r\\n \\t14.Potassium(numerical)\\t\\r\\n\\t\\tpot in mEq/L\\r\\n \\t15.Hemoglobin(numerical)\\r\\n\\t\\themo in gms\\r\\n \\t16.Packed  Cell Volume(numerical)\\r\\n \\t17.White Blood Cell Count(numerical)\\r\\n\\t\\twc in cells/cumm\\r\\n \\t18.Red Blood Cell Count(numerical)\\t\\r\\n\\t\\trc in millions/cmm\\r\\n \\t19.Hypertension(nominal)\\t\\r\\n\\t\\thtn - (yes,no)\\r\\n \\t20.Diabetes Mellitus(nominal)\\t\\r\\n\\t\\tdm - (yes,no)\\r\\n \\t21.Coronary Artery Disease(nominal)\\r\\n\\t\\tcad - (yes,no)\\r\\n \\t22.Appetite(nominal)\\t\\r\\n\\t\\tappet - (good,poor)\\r\\n \\t23.Pedal Edema(nominal)\\r\\n\\t\\tpe - (yes,no)\\t\\r\\n \\t24.Anemia(nominal)\\r\\n\\t\\tane - (yes,no)\\r\\n \\t25.Class (nominal)\\t\\t\\r\\n\\t\\tclass - (ckd,notckd)', 'citation': None}}\n"
     ]
    }
   ],
   "source": [
    "# fetch dataset \n",
    "chronic_kidney_disease = fetch_ucirepo(id=336) \n",
    "# metadata \n",
    "print(chronic_kidney_disease.metadata) "
   ]
  },
  {
   "cell_type": "code",
   "execution_count": 54,
   "metadata": {},
   "outputs": [],
   "source": [
    "# data (as pandas dataframes) \n",
    "X = chronic_kidney_disease.data.features \n",
    "y = chronic_kidney_disease.data.targets "
   ]
  },
  {
   "cell_type": "code",
   "execution_count": 55,
   "metadata": {},
   "outputs": [
    {
     "data": {
      "text/html": [
       "<div>\n",
       "<style scoped>\n",
       "    .dataframe tbody tr th:only-of-type {\n",
       "        vertical-align: middle;\n",
       "    }\n",
       "\n",
       "    .dataframe tbody tr th {\n",
       "        vertical-align: top;\n",
       "    }\n",
       "\n",
       "    .dataframe thead th {\n",
       "        text-align: right;\n",
       "    }\n",
       "</style>\n",
       "<table border=\"1\" class=\"dataframe\">\n",
       "  <thead>\n",
       "    <tr style=\"text-align: right;\">\n",
       "      <th></th>\n",
       "      <th>age</th>\n",
       "      <th>bp</th>\n",
       "      <th>sg</th>\n",
       "      <th>al</th>\n",
       "      <th>su</th>\n",
       "      <th>rbc</th>\n",
       "      <th>pc</th>\n",
       "      <th>pcc</th>\n",
       "      <th>ba</th>\n",
       "      <th>bgr</th>\n",
       "      <th>...</th>\n",
       "      <th>hemo</th>\n",
       "      <th>pcv</th>\n",
       "      <th>wbcc</th>\n",
       "      <th>rbcc</th>\n",
       "      <th>htn</th>\n",
       "      <th>dm</th>\n",
       "      <th>cad</th>\n",
       "      <th>appet</th>\n",
       "      <th>pe</th>\n",
       "      <th>ane</th>\n",
       "    </tr>\n",
       "  </thead>\n",
       "  <tbody>\n",
       "    <tr>\n",
       "      <th>0</th>\n",
       "      <td>48.0</td>\n",
       "      <td>80.0</td>\n",
       "      <td>1.02</td>\n",
       "      <td>1.0</td>\n",
       "      <td>0.0</td>\n",
       "      <td>NaN</td>\n",
       "      <td>normal</td>\n",
       "      <td>notpresent</td>\n",
       "      <td>notpresent</td>\n",
       "      <td>121.0</td>\n",
       "      <td>...</td>\n",
       "      <td>15.4</td>\n",
       "      <td>44.0</td>\n",
       "      <td>7800.0</td>\n",
       "      <td>5.2</td>\n",
       "      <td>yes</td>\n",
       "      <td>yes</td>\n",
       "      <td>no</td>\n",
       "      <td>good</td>\n",
       "      <td>no</td>\n",
       "      <td>no</td>\n",
       "    </tr>\n",
       "    <tr>\n",
       "      <th>1</th>\n",
       "      <td>7.0</td>\n",
       "      <td>50.0</td>\n",
       "      <td>1.02</td>\n",
       "      <td>4.0</td>\n",
       "      <td>0.0</td>\n",
       "      <td>NaN</td>\n",
       "      <td>normal</td>\n",
       "      <td>notpresent</td>\n",
       "      <td>notpresent</td>\n",
       "      <td>NaN</td>\n",
       "      <td>...</td>\n",
       "      <td>11.3</td>\n",
       "      <td>38.0</td>\n",
       "      <td>6000.0</td>\n",
       "      <td>NaN</td>\n",
       "      <td>no</td>\n",
       "      <td>no</td>\n",
       "      <td>no</td>\n",
       "      <td>good</td>\n",
       "      <td>no</td>\n",
       "      <td>no</td>\n",
       "    </tr>\n",
       "  </tbody>\n",
       "</table>\n",
       "<p>2 rows × 24 columns</p>\n",
       "</div>"
      ],
      "text/plain": [
       "    age    bp    sg   al   su  rbc      pc         pcc          ba    bgr  \\\n",
       "0  48.0  80.0  1.02  1.0  0.0  NaN  normal  notpresent  notpresent  121.0   \n",
       "1   7.0  50.0  1.02  4.0  0.0  NaN  normal  notpresent  notpresent    NaN   \n",
       "\n",
       "   ...  hemo   pcv    wbcc  rbcc  htn   dm  cad  appet  pe ane  \n",
       "0  ...  15.4  44.0  7800.0   5.2  yes  yes   no   good  no  no  \n",
       "1  ...  11.3  38.0  6000.0   NaN   no   no   no   good  no  no  \n",
       "\n",
       "[2 rows x 24 columns]"
      ]
     },
     "execution_count": 55,
     "metadata": {},
     "output_type": "execute_result"
    }
   ],
   "source": [
    "# Features\n",
    "X.head(2)"
   ]
  },
  {
   "cell_type": "code",
   "execution_count": 56,
   "metadata": {},
   "outputs": [
    {
     "data": {
      "text/html": [
       "<div>\n",
       "<style scoped>\n",
       "    .dataframe tbody tr th:only-of-type {\n",
       "        vertical-align: middle;\n",
       "    }\n",
       "\n",
       "    .dataframe tbody tr th {\n",
       "        vertical-align: top;\n",
       "    }\n",
       "\n",
       "    .dataframe thead th {\n",
       "        text-align: right;\n",
       "    }\n",
       "</style>\n",
       "<table border=\"1\" class=\"dataframe\">\n",
       "  <thead>\n",
       "    <tr style=\"text-align: right;\">\n",
       "      <th></th>\n",
       "      <th>class</th>\n",
       "    </tr>\n",
       "  </thead>\n",
       "  <tbody>\n",
       "    <tr>\n",
       "      <th>0</th>\n",
       "      <td>ckd</td>\n",
       "    </tr>\n",
       "    <tr>\n",
       "      <th>1</th>\n",
       "      <td>ckd</td>\n",
       "    </tr>\n",
       "  </tbody>\n",
       "</table>\n",
       "</div>"
      ],
      "text/plain": [
       "  class\n",
       "0   ckd\n",
       "1   ckd"
      ]
     },
     "execution_count": 56,
     "metadata": {},
     "output_type": "execute_result"
    }
   ],
   "source": [
    "# Target\n",
    "y.head(2)"
   ]
  },
  {
   "cell_type": "markdown",
   "metadata": {},
   "source": [
    "The classification problem is determining whether a patient has early-stage CKD based on various medical measurements included in the dataset. There are two classes here: Early-stage Indian CKD patients and Healthy patients."
   ]
  },
  {
   "cell_type": "markdown",
   "metadata": {},
   "source": [
    "### **2. Variable Transformation**"
   ]
  },
  {
   "cell_type": "code",
   "execution_count": 4,
   "metadata": {},
   "outputs": [
    {
     "data": {
      "text/plain": [
       "age      float64\n",
       "bp       float64\n",
       "sg       float64\n",
       "al       float64\n",
       "su       float64\n",
       "rbc       object\n",
       "pc        object\n",
       "pcc       object\n",
       "ba        object\n",
       "bgr      float64\n",
       "bu       float64\n",
       "sc       float64\n",
       "sod      float64\n",
       "pot      float64\n",
       "hemo     float64\n",
       "pcv      float64\n",
       "wbcc     float64\n",
       "rbcc     float64\n",
       "htn       object\n",
       "dm        object\n",
       "cad       object\n",
       "appet     object\n",
       "pe        object\n",
       "ane       object\n",
       "class     object\n",
       "dtype: object"
      ]
     },
     "execution_count": 4,
     "metadata": {},
     "output_type": "execute_result"
    }
   ],
   "source": [
    "df.dtypes"
   ]
  },
  {
   "cell_type": "markdown",
   "metadata": {},
   "source": [
    "From the dictionary， `sg`, `al`, `su` are Categorical variables. `age`, `bp`, `bgr`, `bu`, `sod`, `pcv`, `wbcc` are Integer variable. `rbc`, `pc`, `pcc`, `ba`, `htn`, `dm`, `cad`, `appet`, `pe`, `ane`, `class` are Binary variables. `sc`,`pot`,`hemo`,and `rbcc` are continuous varibles. Then, we need to transform the data type."
   ]
  },
  {
   "cell_type": "code",
   "execution_count": 8,
   "metadata": {},
   "outputs": [],
   "source": [
    "columns_to_convert = ['sg', 'al', 'su']\n",
    "\n",
    "for col in columns_to_convert:\n",
    "    df[col] = pd.Categorical(df[col])"
   ]
  },
  {
   "cell_type": "code",
   "execution_count": 9,
   "metadata": {},
   "outputs": [
    {
     "name": "stdout",
     "output_type": "stream",
     "text": [
      "sg\n",
      "1.02     0.300283\n",
      "1.01     0.237960\n",
      "1.025    0.229462\n",
      "1.015    0.212465\n",
      "1.005    0.019830\n",
      "Name: proportion, dtype: float64\n",
      "al\n",
      "0.0    0.562147\n",
      "1.0    0.124294\n",
      "2.0    0.121469\n",
      "3.0    0.121469\n",
      "4.0    0.067797\n",
      "5.0    0.002825\n",
      "Name: proportion, dtype: float64\n",
      "su\n",
      "0.0    0.826211\n",
      "2.0    0.051282\n",
      "3.0    0.039886\n",
      "1.0    0.037037\n",
      "4.0    0.037037\n",
      "5.0    0.008547\n",
      "Name: proportion, dtype: float64\n"
     ]
    }
   ],
   "source": [
    "for col in columns_to_convert:\n",
    "    print(df[col].value_counts(normalize=True))"
   ]
  },
  {
   "cell_type": "markdown",
   "metadata": {},
   "source": [
    "In general, we do not need to convert binary variables. Since the classification algorithm is sensitive to the scale of the data, we choose to standardize those data under integer and continuous variable."
   ]
  },
  {
   "cell_type": "code",
   "execution_count": 84,
   "metadata": {},
   "outputs": [
    {
     "data": {
      "text/html": [
       "<div>\n",
       "<style scoped>\n",
       "    .dataframe tbody tr th:only-of-type {\n",
       "        vertical-align: middle;\n",
       "    }\n",
       "\n",
       "    .dataframe tbody tr th {\n",
       "        vertical-align: top;\n",
       "    }\n",
       "\n",
       "    .dataframe thead th {\n",
       "        text-align: right;\n",
       "    }\n",
       "</style>\n",
       "<table border=\"1\" class=\"dataframe\">\n",
       "  <thead>\n",
       "    <tr style=\"text-align: right;\">\n",
       "      <th></th>\n",
       "      <th>age</th>\n",
       "      <th>bp</th>\n",
       "      <th>sg</th>\n",
       "      <th>al</th>\n",
       "      <th>su</th>\n",
       "      <th>rbc</th>\n",
       "      <th>pc</th>\n",
       "      <th>pcc</th>\n",
       "      <th>ba</th>\n",
       "      <th>bgr</th>\n",
       "      <th>...</th>\n",
       "      <th>pcv</th>\n",
       "      <th>wbcc</th>\n",
       "      <th>rbcc</th>\n",
       "      <th>htn</th>\n",
       "      <th>dm</th>\n",
       "      <th>cad</th>\n",
       "      <th>appet</th>\n",
       "      <th>pe</th>\n",
       "      <th>ane</th>\n",
       "      <th>class</th>\n",
       "    </tr>\n",
       "  </thead>\n",
       "  <tbody>\n",
       "    <tr>\n",
       "      <th>0</th>\n",
       "      <td>-0.203139</td>\n",
       "      <td>0.258373</td>\n",
       "      <td>1.02</td>\n",
       "      <td>1.0</td>\n",
       "      <td>0.0</td>\n",
       "      <td>NaN</td>\n",
       "      <td>normal</td>\n",
       "      <td>notpresent</td>\n",
       "      <td>notpresent</td>\n",
       "      <td>-0.341498</td>\n",
       "      <td>...</td>\n",
       "      <td>0.569881</td>\n",
       "      <td>-0.206202</td>\n",
       "      <td>0.481295</td>\n",
       "      <td>yes</td>\n",
       "      <td>yes</td>\n",
       "      <td>no</td>\n",
       "      <td>good</td>\n",
       "      <td>no</td>\n",
       "      <td>no</td>\n",
       "      <td>ckd</td>\n",
       "    </tr>\n",
       "    <tr>\n",
       "      <th>1</th>\n",
       "      <td>-2.594124</td>\n",
       "      <td>-1.936857</td>\n",
       "      <td>1.02</td>\n",
       "      <td>4.0</td>\n",
       "      <td>0.0</td>\n",
       "      <td>NaN</td>\n",
       "      <td>normal</td>\n",
       "      <td>notpresent</td>\n",
       "      <td>notpresent</td>\n",
       "      <td>NaN</td>\n",
       "      <td>...</td>\n",
       "      <td>-0.098536</td>\n",
       "      <td>-0.818559</td>\n",
       "      <td>NaN</td>\n",
       "      <td>no</td>\n",
       "      <td>no</td>\n",
       "      <td>no</td>\n",
       "      <td>good</td>\n",
       "      <td>no</td>\n",
       "      <td>no</td>\n",
       "      <td>ckd</td>\n",
       "    </tr>\n",
       "  </tbody>\n",
       "</table>\n",
       "<p>2 rows × 25 columns</p>\n",
       "</div>"
      ],
      "text/plain": [
       "        age        bp    sg   al   su  rbc      pc         pcc          ba  \\\n",
       "0 -0.203139  0.258373  1.02  1.0  0.0  NaN  normal  notpresent  notpresent   \n",
       "1 -2.594124 -1.936857  1.02  4.0  0.0  NaN  normal  notpresent  notpresent   \n",
       "\n",
       "        bgr  ...       pcv      wbcc      rbcc  htn   dm  cad  appet  pe ane  \\\n",
       "0 -0.341498  ...  0.569881 -0.206202  0.481295  yes  yes   no   good  no  no   \n",
       "1       NaN  ... -0.098536 -0.818559       NaN   no   no   no   good  no  no   \n",
       "\n",
       "  class  \n",
       "0   ckd  \n",
       "1   ckd  \n",
       "\n",
       "[2 rows x 25 columns]"
      ]
     },
     "execution_count": 84,
     "metadata": {},
     "output_type": "execute_result"
    }
   ],
   "source": [
    "from sklearn.preprocessing import StandardScaler\n",
    "\n",
    "#df_scale = df.select_dtypes(include=['int64', 'float64']).columns.tolist()\n",
    "#df_scale\n",
    "\n",
    "scale = ['age','bp','bgr','bu','sod','pcv','wbcc','sc','pot','hemo','rbcc']\n",
    "scaler = StandardScaler()\n",
    "df[scale] = scaler.fit_transform(df[scale]) \n",
    "df.head(2)"
   ]
  },
  {
   "cell_type": "markdown",
   "metadata": {},
   "source": [
    "### **3. Dataset Overview**"
   ]
  },
  {
   "cell_type": "code",
   "execution_count": 85,
   "metadata": {},
   "outputs": [
    {
     "data": {
      "text/plain": [
       "<bound method NDFrame.describe of           age        bp     sg   al   su     rbc        pc         pcc  \\\n",
       "0   -0.203139  0.258373  1.020  1.0  0.0     NaN    normal  notpresent   \n",
       "1   -2.594124 -1.936857  1.020  4.0  0.0     NaN    normal  notpresent   \n",
       "2    0.613295  0.258373  1.010  2.0  3.0  normal    normal  notpresent   \n",
       "3   -0.203139 -0.473370  1.005  4.0  0.0  normal  abnormal     present   \n",
       "4   -0.028189  0.258373  1.010  2.0  0.0  normal    normal  notpresent   \n",
       "..        ...       ...    ...  ...  ...     ...       ...         ...   \n",
       "395  0.205078  0.258373  1.020  0.0  0.0  normal    normal  notpresent   \n",
       "396 -0.553039 -0.473370  1.025  0.0  0.0  normal    normal  notpresent   \n",
       "397 -2.302541  0.258373  1.020  0.0  0.0  normal    normal  notpresent   \n",
       "398 -2.010957 -1.205114  1.025  0.0  0.0  normal    normal  notpresent   \n",
       "399  0.380028  0.258373  1.025  0.0  0.0  normal    normal  notpresent   \n",
       "\n",
       "             ba       bgr  ...       pcv      wbcc      rbcc  htn   dm  cad  \\\n",
       "0    notpresent -0.341498  ...  0.569881 -0.206202  0.481295  yes  yes   no   \n",
       "1    notpresent       NaN  ... -0.098536 -0.818559       NaN   no   no   no   \n",
       "2    notpresent  3.473064  ... -0.878356 -0.308261       NaN   no  yes   no   \n",
       "3    notpresent -0.392022  ... -0.766953 -0.580420 -0.788961  yes   no   no   \n",
       "4    notpresent -0.530963  ... -0.432744 -0.376301 -0.104977   no   no   no   \n",
       "..          ...       ...  ...       ...       ...       ...  ...  ...  ...   \n",
       "395  notpresent -0.101509  ...  0.904090 -0.580420  0.188159   no   no   no   \n",
       "396  notpresent -0.922524  ...  1.683910 -0.206202  1.458415   no   no   no   \n",
       "397  notpresent -0.606749  ...  1.126896 -0.614440  0.676719   no   no   no   \n",
       "398  notpresent -0.429915  ...  1.349701 -0.410321  1.165279   no   no   no   \n",
       "399  notpresent -0.215188  ...  1.572507 -0.546400  1.360703   no   no   no   \n",
       "\n",
       "     appet   pe  ane   class  \n",
       "0     good   no   no     ckd  \n",
       "1     good   no   no     ckd  \n",
       "2     poor   no  yes     ckd  \n",
       "3     poor  yes  yes     ckd  \n",
       "4     good   no   no     ckd  \n",
       "..     ...  ...  ...     ...  \n",
       "395   good   no   no  notckd  \n",
       "396   good   no   no  notckd  \n",
       "397   good   no   no  notckd  \n",
       "398   good   no   no  notckd  \n",
       "399   good   no   no  notckd  \n",
       "\n",
       "[400 rows x 25 columns]>"
      ]
     },
     "execution_count": 85,
     "metadata": {},
     "output_type": "execute_result"
    }
   ],
   "source": [
    "df.describe"
   ]
  },
  {
   "cell_type": "code",
   "execution_count": 10,
   "metadata": {},
   "outputs": [
    {
     "name": "stdout",
     "output_type": "stream",
     "text": [
      "(400, 25)\n"
     ]
    },
    {
     "data": {
      "text/plain": [
       "age       float64\n",
       "bp        float64\n",
       "sg       category\n",
       "al       category\n",
       "su       category\n",
       "rbc        object\n",
       "pc         object\n",
       "pcc        object\n",
       "ba         object\n",
       "bgr       float64\n",
       "bu        float64\n",
       "sc        float64\n",
       "sod       float64\n",
       "pot       float64\n",
       "hemo      float64\n",
       "pcv       float64\n",
       "wbcc      float64\n",
       "rbcc      float64\n",
       "htn        object\n",
       "dm         object\n",
       "cad        object\n",
       "appet      object\n",
       "pe         object\n",
       "ane        object\n",
       "class      object\n",
       "dtype: object"
      ]
     },
     "execution_count": 10,
     "metadata": {},
     "output_type": "execute_result"
    }
   ],
   "source": [
    "# Observations count\n",
    "print(df.shape)\n",
    "# type check\n",
    "df.dtypes"
   ]
  },
  {
   "cell_type": "code",
   "execution_count": 11,
   "metadata": {},
   "outputs": [
    {
     "data": {
      "text/plain": [
       "array([[<Axes: title={'center': 'age'}>, <Axes: title={'center': 'bp'}>,\n",
       "        <Axes: title={'center': 'bgr'}>],\n",
       "       [<Axes: title={'center': 'bu'}>, <Axes: title={'center': 'sc'}>,\n",
       "        <Axes: title={'center': 'sod'}>],\n",
       "       [<Axes: title={'center': 'pot'}>,\n",
       "        <Axes: title={'center': 'hemo'}>,\n",
       "        <Axes: title={'center': 'pcv'}>],\n",
       "       [<Axes: title={'center': 'wbcc'}>,\n",
       "        <Axes: title={'center': 'rbcc'}>, <Axes: >]], dtype=object)"
      ]
     },
     "execution_count": 11,
     "metadata": {},
     "output_type": "execute_result"
    },
    {
     "data": {
      "image/png": "[encoded data removed]",
      "text/plain": [
       "<Figure size 600x800 with 12 Axes>"
      ]
     },
     "metadata": {},
     "output_type": "display_data"
    }
   ],
   "source": [
    "## Check the distribution of each variable\n",
    "df.hist(xlabelsize=6,ylabelsize=6,figsize=(6,8))"
   ]
  }
 ],
 "metadata": {
  "kernelspec": {
   "display_name": "base",
   "language": "python",
   "name": "python3"
  },
  "language_info": {
   "codemirror_mode": {
    "name": "ipython",
    "version": 3
   },
   "file_extension": ".py",
   "mimetype": "text/x-python",
   "name": "python",
   "nbconvert_exporter": "python",
   "pygments_lexer": "ipython3",
   "version": "3.11.5"
  }
 },
 "nbformat": 4,
 "nbformat_minor": 2
}
