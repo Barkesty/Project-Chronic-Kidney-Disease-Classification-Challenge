{
 "cells": [
  {
   "cell_type": "raw",
   "metadata": {
    "vscode": {
     "languageId": "raw"
    }
   },
   "source": [
    "---\n",
    "title: STATS 3DA3\n",
    "subtitle: Project Chronic Kidney Disease Classification Challenge\n",
    "author: '\\protect\\parbox{\\textwidth}{\\protect\\centering Group 3\\\\ Xiangdong Wang (400335790)\\\\ Lingyun Huang (400237999)\\\\ Jingyang Li (400321245)}'\n",
    "date: 04/10/2024\n",
    "format: pdf\n",
    "header-includes:\n",
    "   - \\usepackage{amsmath}\n",
    "   - \\usepackage{bbm}\n",
    "   - \\usepackage{array}\n",
    "   - \\usepackage{multirow}\n",
    "   - \\usepackage{graphicx}\n",
    "   - \\usepackage{float}\n",
    "   - \\usepackage{apacite}\n",
    "   - \\usepackage{natbib}\n",
    "execute: \n",
    "  echo: true\n",
    "fontsize: 11pt\n",
    "geometry: margin = 1in\n",
    "linestretch: 1.5\n",
    "---\n"
   ]
  },
  {
   "cell_type": "markdown",
   "metadata": {},
   "source": [
    "\\newpage"
   ]
  },
  {
   "cell_type": "code",
   "execution_count": 510,
   "metadata": {},
   "outputs": [],
   "source": [
    "from ucimlrepo import fetch_ucirepo \n",
    "import pandas as pd\n",
    "import numpy as np\n",
    "import seaborn as sns\n",
    "import matplotlib.pyplot as plt\n"
   ]
  },
  {
   "cell_type": "markdown",
   "metadata": {},
   "source": [
    "### **1. Classification Problem Identification**"
   ]
  },
  {
   "cell_type": "markdown",
   "metadata": {},
   "source": [
    "Dataset is used from the [Early Stage of Indians Chronic Kidney Disease (CKD)](https://archive.ics.uci.edu/dataset/336/chronic+kidney+disease) project, which comprises data on 250 early-stage CKD patients and 150 healthy controls.\n",
    "\n",
    "In this assignment, machine learning (ML) techniques have been deployed to predict, diagnose, and treat chronic kidney disease (CKD). "
   ]
  },
  {
   "cell_type": "code",
   "execution_count": 511,
   "metadata": {},
   "outputs": [
    {
     "data": {
      "text/html": [
       "<div>\n",
       "<style scoped>\n",
       "    .dataframe tbody tr th:only-of-type {\n",
       "        vertical-align: middle;\n",
       "    }\n",
       "\n",
       "    .dataframe tbody tr th {\n",
       "        vertical-align: top;\n",
       "    }\n",
       "\n",
       "    .dataframe thead th {\n",
       "        text-align: right;\n",
       "    }\n",
       "</style>\n",
       "<table border=\"1\" class=\"dataframe\">\n",
       "  <thead>\n",
       "    <tr style=\"text-align: right;\">\n",
       "      <th></th>\n",
       "      <th>age</th>\n",
       "      <th>bp</th>\n",
       "      <th>sg</th>\n",
       "      <th>al</th>\n",
       "      <th>su</th>\n",
       "      <th>rbc</th>\n",
       "      <th>pc</th>\n",
       "      <th>pcc</th>\n",
       "      <th>ba</th>\n",
       "      <th>bgr</th>\n",
       "      <th>...</th>\n",
       "      <th>pcv</th>\n",
       "      <th>wbcc</th>\n",
       "      <th>rbcc</th>\n",
       "      <th>htn</th>\n",
       "      <th>dm</th>\n",
       "      <th>cad</th>\n",
       "      <th>appet</th>\n",
       "      <th>pe</th>\n",
       "      <th>ane</th>\n",
       "      <th>class</th>\n",
       "    </tr>\n",
       "  </thead>\n",
       "  <tbody>\n",
       "    <tr>\n",
       "      <th>0</th>\n",
       "      <td>48.0</td>\n",
       "      <td>80.0</td>\n",
       "      <td>1.02</td>\n",
       "      <td>1.0</td>\n",
       "      <td>0.0</td>\n",
       "      <td>NaN</td>\n",
       "      <td>normal</td>\n",
       "      <td>notpresent</td>\n",
       "      <td>notpresent</td>\n",
       "      <td>121.0</td>\n",
       "      <td>...</td>\n",
       "      <td>44.0</td>\n",
       "      <td>7800.0</td>\n",
       "      <td>5.2</td>\n",
       "      <td>yes</td>\n",
       "      <td>yes</td>\n",
       "      <td>no</td>\n",
       "      <td>good</td>\n",
       "      <td>no</td>\n",
       "      <td>no</td>\n",
       "      <td>ckd</td>\n",
       "    </tr>\n",
       "    <tr>\n",
       "      <th>1</th>\n",
       "      <td>7.0</td>\n",
       "      <td>50.0</td>\n",
       "      <td>1.02</td>\n",
       "      <td>4.0</td>\n",
       "      <td>0.0</td>\n",
       "      <td>NaN</td>\n",
       "      <td>normal</td>\n",
       "      <td>notpresent</td>\n",
       "      <td>notpresent</td>\n",
       "      <td>NaN</td>\n",
       "      <td>...</td>\n",
       "      <td>38.0</td>\n",
       "      <td>6000.0</td>\n",
       "      <td>NaN</td>\n",
       "      <td>no</td>\n",
       "      <td>no</td>\n",
       "      <td>no</td>\n",
       "      <td>good</td>\n",
       "      <td>no</td>\n",
       "      <td>no</td>\n",
       "      <td>ckd</td>\n",
       "    </tr>\n",
       "  </tbody>\n",
       "</table>\n",
       "<p>2 rows × 25 columns</p>\n",
       "</div>"
      ],
      "text/plain": [
       "    age    bp    sg   al   su  rbc      pc         pcc          ba    bgr  \\\n",
       "0  48.0  80.0  1.02  1.0  0.0  NaN  normal  notpresent  notpresent  121.0   \n",
       "1   7.0  50.0  1.02  4.0  0.0  NaN  normal  notpresent  notpresent    NaN   \n",
       "\n",
       "   ...   pcv    wbcc  rbcc  htn   dm  cad  appet  pe ane class  \n",
       "0  ...  44.0  7800.0   5.2  yes  yes   no   good  no  no   ckd  \n",
       "1  ...  38.0  6000.0   NaN   no   no   no   good  no  no   ckd  \n",
       "\n",
       "[2 rows x 25 columns]"
      ]
     },
     "execution_count": 511,
     "metadata": {},
     "output_type": "execute_result"
    }
   ],
   "source": [
    "## Load Dataset\n",
    "data_url = 'https://archive.ics.uci.edu/static/public/336/data.csv'\n",
    "df = pd.read_csv(data_url)\n",
    "df.head(2)"
   ]
  },
  {
   "cell_type": "code",
   "execution_count": 512,
   "metadata": {},
   "outputs": [
    {
     "name": "stdout",
     "output_type": "stream",
     "text": [
      "{'uci_id': 336, 'name': 'Chronic Kidney Disease', 'repository_url': 'https://archive.ics.uci.edu/dataset/336/chronic+kidney+disease', 'data_url': 'https://archive.ics.uci.edu/static/public/336/data.csv', 'abstract': 'This dataset can be used to predict the chronic kidney disease and it can be collected from the hospital nearly 2 months of period.', 'area': 'Other', 'tasks': ['Classification'], 'characteristics': ['Multivariate'], 'num_instances': 400, 'num_features': 24, 'feature_types': ['Real'], 'demographics': ['Age'], 'target_col': ['class'], 'index_col': None, 'has_missing_values': 'yes', 'missing_values_symbol': 'NaN', 'year_of_dataset_creation': 2015, 'last_updated': 'Mon Mar 04 2024', 'dataset_doi': '10.24432/C5G020', 'creators': ['L. Rubini', 'P. Soundarapandian', 'P. Eswaran'], 'intro_paper': None, 'additional_info': {'summary': 'We use the following representation to collect the dataset\\r\\n                        age\\t\\t-\\tage\\t\\r\\n\\t\\t\\tbp\\t\\t-\\tblood pressure\\r\\n\\t\\t\\tsg\\t\\t-\\tspecific gravity\\r\\n\\t\\t\\tal\\t\\t-   \\talbumin\\r\\n\\t\\t\\tsu\\t\\t-\\tsugar\\r\\n\\t\\t\\trbc\\t\\t-\\tred blood cells\\r\\n\\t\\t\\tpc\\t\\t-\\tpus cell\\r\\n\\t\\t\\tpcc\\t\\t-\\tpus cell clumps\\r\\n\\t\\t\\tba\\t\\t-\\tbacteria\\r\\n\\t\\t\\tbgr\\t\\t-\\tblood glucose random\\r\\n\\t\\t\\tbu\\t\\t-\\tblood urea\\r\\n\\t\\t\\tsc\\t\\t-\\tserum creatinine\\r\\n\\t\\t\\tsod\\t\\t-\\tsodium\\r\\n\\t\\t\\tpot\\t\\t-\\tpotassium\\r\\n\\t\\t\\themo\\t\\t-\\themoglobin\\r\\n\\t\\t\\tpcv\\t\\t-\\tpacked cell volume\\r\\n\\t\\t\\twc\\t\\t-\\twhite blood cell count\\r\\n\\t\\t\\trc\\t\\t-\\tred blood cell count\\r\\n\\t\\t\\thtn\\t\\t-\\thypertension\\r\\n\\t\\t\\tdm\\t\\t-\\tdiabetes mellitus\\r\\n\\t\\t\\tcad\\t\\t-\\tcoronary artery disease\\r\\n\\t\\t\\tappet\\t\\t-\\tappetite\\r\\n\\t\\t\\tpe\\t\\t-\\tpedal edema\\r\\n\\t\\t\\tane\\t\\t-\\tanemia\\r\\n\\t\\t\\tclass\\t\\t-\\tclass\\t', 'purpose': None, 'funded_by': None, 'instances_represent': None, 'recommended_data_splits': None, 'sensitive_data': None, 'preprocessing_description': None, 'variable_info': 'We use 24 + class = 25 ( 11  numeric ,14  nominal)\\r\\n1.Age(numerical)\\r\\n  \\t  \\tage in years\\r\\n \\t2.Blood Pressure(numerical)\\r\\n\\t       \\tbp in mm/Hg\\r\\n \\t3.Specific Gravity(nominal)\\r\\n\\t  \\tsg - (1.005,1.010,1.015,1.020,1.025)\\r\\n \\t4.Albumin(nominal)\\r\\n\\t\\tal - (0,1,2,3,4,5)\\r\\n \\t5.Sugar(nominal)\\r\\n\\t\\tsu - (0,1,2,3,4,5)\\r\\n \\t6.Red Blood Cells(nominal)\\r\\n\\t\\trbc - (normal,abnormal)\\r\\n \\t7.Pus Cell (nominal)\\r\\n\\t\\tpc - (normal,abnormal)\\r\\n \\t8.Pus Cell clumps(nominal)\\r\\n\\t\\tpcc - (present,notpresent)\\r\\n \\t9.Bacteria(nominal)\\r\\n\\t\\tba  - (present,notpresent)\\r\\n \\t10.Blood Glucose Random(numerical)\\t\\t\\r\\n\\t\\tbgr in mgs/dl\\r\\n \\t11.Blood Urea(numerical)\\t\\r\\n\\t\\tbu in mgs/dl\\r\\n \\t12.Serum Creatinine(numerical)\\t\\r\\n\\t\\tsc in mgs/dl\\r\\n \\t13.Sodium(numerical)\\r\\n\\t\\tsod in mEq/L\\r\\n \\t14.Potassium(numerical)\\t\\r\\n\\t\\tpot in mEq/L\\r\\n \\t15.Hemoglobin(numerical)\\r\\n\\t\\themo in gms\\r\\n \\t16.Packed  Cell Volume(numerical)\\r\\n \\t17.White Blood Cell Count(numerical)\\r\\n\\t\\twc in cells/cumm\\r\\n \\t18.Red Blood Cell Count(numerical)\\t\\r\\n\\t\\trc in millions/cmm\\r\\n \\t19.Hypertension(nominal)\\t\\r\\n\\t\\thtn - (yes,no)\\r\\n \\t20.Diabetes Mellitus(nominal)\\t\\r\\n\\t\\tdm - (yes,no)\\r\\n \\t21.Coronary Artery Disease(nominal)\\r\\n\\t\\tcad - (yes,no)\\r\\n \\t22.Appetite(nominal)\\t\\r\\n\\t\\tappet - (good,poor)\\r\\n \\t23.Pedal Edema(nominal)\\r\\n\\t\\tpe - (yes,no)\\t\\r\\n \\t24.Anemia(nominal)\\r\\n\\t\\tane - (yes,no)\\r\\n \\t25.Class (nominal)\\t\\t\\r\\n\\t\\tclass - (ckd,notckd)', 'citation': None}}\n"
     ]
    }
   ],
   "source": [
    "# fetch dataset \n",
    "chronic_kidney_disease = fetch_ucirepo(id=336) \n",
    "# metadata \n",
    "print(chronic_kidney_disease.metadata) "
   ]
  },
  {
   "cell_type": "code",
   "execution_count": 513,
   "metadata": {},
   "outputs": [],
   "source": [
    "# data (as pandas dataframes) \n",
    "X = chronic_kidney_disease.data.features \n",
    "y = chronic_kidney_disease.data.targets "
   ]
  },
  {
   "cell_type": "code",
   "execution_count": 514,
   "metadata": {},
   "outputs": [
    {
     "data": {
      "text/html": [
       "<div>\n",
       "<style scoped>\n",
       "    .dataframe tbody tr th:only-of-type {\n",
       "        vertical-align: middle;\n",
       "    }\n",
       "\n",
       "    .dataframe tbody tr th {\n",
       "        vertical-align: top;\n",
       "    }\n",
       "\n",
       "    .dataframe thead th {\n",
       "        text-align: right;\n",
       "    }\n",
       "</style>\n",
       "<table border=\"1\" class=\"dataframe\">\n",
       "  <thead>\n",
       "    <tr style=\"text-align: right;\">\n",
       "      <th></th>\n",
       "      <th>age</th>\n",
       "      <th>bp</th>\n",
       "      <th>sg</th>\n",
       "      <th>al</th>\n",
       "      <th>su</th>\n",
       "      <th>rbc</th>\n",
       "      <th>pc</th>\n",
       "      <th>pcc</th>\n",
       "      <th>ba</th>\n",
       "      <th>bgr</th>\n",
       "      <th>...</th>\n",
       "      <th>hemo</th>\n",
       "      <th>pcv</th>\n",
       "      <th>wbcc</th>\n",
       "      <th>rbcc</th>\n",
       "      <th>htn</th>\n",
       "      <th>dm</th>\n",
       "      <th>cad</th>\n",
       "      <th>appet</th>\n",
       "      <th>pe</th>\n",
       "      <th>ane</th>\n",
       "    </tr>\n",
       "  </thead>\n",
       "  <tbody>\n",
       "    <tr>\n",
       "      <th>0</th>\n",
       "      <td>48.0</td>\n",
       "      <td>80.0</td>\n",
       "      <td>1.02</td>\n",
       "      <td>1.0</td>\n",
       "      <td>0.0</td>\n",
       "      <td>NaN</td>\n",
       "      <td>normal</td>\n",
       "      <td>notpresent</td>\n",
       "      <td>notpresent</td>\n",
       "      <td>121.0</td>\n",
       "      <td>...</td>\n",
       "      <td>15.4</td>\n",
       "      <td>44.0</td>\n",
       "      <td>7800.0</td>\n",
       "      <td>5.2</td>\n",
       "      <td>yes</td>\n",
       "      <td>yes</td>\n",
       "      <td>no</td>\n",
       "      <td>good</td>\n",
       "      <td>no</td>\n",
       "      <td>no</td>\n",
       "    </tr>\n",
       "    <tr>\n",
       "      <th>1</th>\n",
       "      <td>7.0</td>\n",
       "      <td>50.0</td>\n",
       "      <td>1.02</td>\n",
       "      <td>4.0</td>\n",
       "      <td>0.0</td>\n",
       "      <td>NaN</td>\n",
       "      <td>normal</td>\n",
       "      <td>notpresent</td>\n",
       "      <td>notpresent</td>\n",
       "      <td>NaN</td>\n",
       "      <td>...</td>\n",
       "      <td>11.3</td>\n",
       "      <td>38.0</td>\n",
       "      <td>6000.0</td>\n",
       "      <td>NaN</td>\n",
       "      <td>no</td>\n",
       "      <td>no</td>\n",
       "      <td>no</td>\n",
       "      <td>good</td>\n",
       "      <td>no</td>\n",
       "      <td>no</td>\n",
       "    </tr>\n",
       "  </tbody>\n",
       "</table>\n",
       "<p>2 rows × 24 columns</p>\n",
       "</div>"
      ],
      "text/plain": [
       "    age    bp    sg   al   su  rbc      pc         pcc          ba    bgr  \\\n",
       "0  48.0  80.0  1.02  1.0  0.0  NaN  normal  notpresent  notpresent  121.0   \n",
       "1   7.0  50.0  1.02  4.0  0.0  NaN  normal  notpresent  notpresent    NaN   \n",
       "\n",
       "   ...  hemo   pcv    wbcc  rbcc  htn   dm  cad  appet  pe ane  \n",
       "0  ...  15.4  44.0  7800.0   5.2  yes  yes   no   good  no  no  \n",
       "1  ...  11.3  38.0  6000.0   NaN   no   no   no   good  no  no  \n",
       "\n",
       "[2 rows x 24 columns]"
      ]
     },
     "execution_count": 514,
     "metadata": {},
     "output_type": "execute_result"
    }
   ],
   "source": [
    "# Features\n",
    "X.head(2)"
   ]
  },
  {
   "cell_type": "code",
   "execution_count": 515,
   "metadata": {},
   "outputs": [
    {
     "data": {
      "text/html": [
       "<div>\n",
       "<style scoped>\n",
       "    .dataframe tbody tr th:only-of-type {\n",
       "        vertical-align: middle;\n",
       "    }\n",
       "\n",
       "    .dataframe tbody tr th {\n",
       "        vertical-align: top;\n",
       "    }\n",
       "\n",
       "    .dataframe thead th {\n",
       "        text-align: right;\n",
       "    }\n",
       "</style>\n",
       "<table border=\"1\" class=\"dataframe\">\n",
       "  <thead>\n",
       "    <tr style=\"text-align: right;\">\n",
       "      <th></th>\n",
       "      <th>class</th>\n",
       "    </tr>\n",
       "  </thead>\n",
       "  <tbody>\n",
       "    <tr>\n",
       "      <th>0</th>\n",
       "      <td>ckd</td>\n",
       "    </tr>\n",
       "    <tr>\n",
       "      <th>1</th>\n",
       "      <td>ckd</td>\n",
       "    </tr>\n",
       "  </tbody>\n",
       "</table>\n",
       "</div>"
      ],
      "text/plain": [
       "  class\n",
       "0   ckd\n",
       "1   ckd"
      ]
     },
     "execution_count": 515,
     "metadata": {},
     "output_type": "execute_result"
    }
   ],
   "source": [
    "# Target\n",
    "y.head(2)"
   ]
  },
  {
   "cell_type": "markdown",
   "metadata": {},
   "source": [
    "The classification problem is determining whether a patient has early-stage CKD based on various medical measurements included in the dataset. There are two classes here: Early-stage Indian CKD patients and Healthy patients."
   ]
  },
  {
   "cell_type": "markdown",
   "metadata": {},
   "source": [
    "### **2. Variable Transformation**"
   ]
  },
  {
   "cell_type": "code",
   "execution_count": 516,
   "metadata": {},
   "outputs": [
    {
     "data": {
      "text/plain": [
       "age      float64\n",
       "bp       float64\n",
       "sg       float64\n",
       "al       float64\n",
       "su       float64\n",
       "rbc       object\n",
       "pc        object\n",
       "pcc       object\n",
       "ba        object\n",
       "bgr      float64\n",
       "bu       float64\n",
       "sc       float64\n",
       "sod      float64\n",
       "pot      float64\n",
       "hemo     float64\n",
       "pcv      float64\n",
       "wbcc     float64\n",
       "rbcc     float64\n",
       "htn       object\n",
       "dm        object\n",
       "cad       object\n",
       "appet     object\n",
       "pe        object\n",
       "ane       object\n",
       "class     object\n",
       "dtype: object"
      ]
     },
     "execution_count": 516,
     "metadata": {},
     "output_type": "execute_result"
    }
   ],
   "source": [
    "df.dtypes"
   ]
  },
  {
   "cell_type": "markdown",
   "metadata": {},
   "source": [
    "From the dictionary， `sg`, `al`, `su` are Categorical variables. `age`, `bp`, `bgr`, `bu`, `sod`, `pcv`, `wbcc` are Integer variable. `rbc`, `pc`, `pcc`, `ba`, `htn`, `dm`, `cad`, `appet`, `pe`, `ane`, `class` are Binary variables. `sc`,`pot`,`hemo`,and `rbcc` are continuous varibles. Then, we need to transform `sg`, `al`, `su` into Categorical variables and those binary variables into float (0,1)."
   ]
  },
  {
   "cell_type": "code",
   "execution_count": 517,
   "metadata": {},
   "outputs": [
    {
     "data": {
      "text/html": [
       "<div>\n",
       "<style scoped>\n",
       "    .dataframe tbody tr th:only-of-type {\n",
       "        vertical-align: middle;\n",
       "    }\n",
       "\n",
       "    .dataframe tbody tr th {\n",
       "        vertical-align: top;\n",
       "    }\n",
       "\n",
       "    .dataframe thead th {\n",
       "        text-align: right;\n",
       "    }\n",
       "</style>\n",
       "<table border=\"1\" class=\"dataframe\">\n",
       "  <thead>\n",
       "    <tr style=\"text-align: right;\">\n",
       "      <th></th>\n",
       "      <th>age</th>\n",
       "      <th>bp</th>\n",
       "      <th>sg</th>\n",
       "      <th>al</th>\n",
       "      <th>su</th>\n",
       "      <th>rbc</th>\n",
       "      <th>pc</th>\n",
       "      <th>pcc</th>\n",
       "      <th>ba</th>\n",
       "      <th>bgr</th>\n",
       "      <th>...</th>\n",
       "      <th>pcv</th>\n",
       "      <th>wbcc</th>\n",
       "      <th>rbcc</th>\n",
       "      <th>htn</th>\n",
       "      <th>dm</th>\n",
       "      <th>cad</th>\n",
       "      <th>appet</th>\n",
       "      <th>pe</th>\n",
       "      <th>ane</th>\n",
       "      <th>class</th>\n",
       "    </tr>\n",
       "  </thead>\n",
       "  <tbody>\n",
       "    <tr>\n",
       "      <th>0</th>\n",
       "      <td>48.0</td>\n",
       "      <td>80.0</td>\n",
       "      <td>1.02</td>\n",
       "      <td>1.0</td>\n",
       "      <td>0.0</td>\n",
       "      <td>NaN</td>\n",
       "      <td>1.0</td>\n",
       "      <td>0.0</td>\n",
       "      <td>0.0</td>\n",
       "      <td>121.0</td>\n",
       "      <td>...</td>\n",
       "      <td>44.0</td>\n",
       "      <td>7800.0</td>\n",
       "      <td>5.2</td>\n",
       "      <td>1.0</td>\n",
       "      <td>1.0</td>\n",
       "      <td>0.0</td>\n",
       "      <td>1.0</td>\n",
       "      <td>0.0</td>\n",
       "      <td>0.0</td>\n",
       "      <td>1.0</td>\n",
       "    </tr>\n",
       "    <tr>\n",
       "      <th>1</th>\n",
       "      <td>7.0</td>\n",
       "      <td>50.0</td>\n",
       "      <td>1.02</td>\n",
       "      <td>4.0</td>\n",
       "      <td>0.0</td>\n",
       "      <td>NaN</td>\n",
       "      <td>1.0</td>\n",
       "      <td>0.0</td>\n",
       "      <td>0.0</td>\n",
       "      <td>NaN</td>\n",
       "      <td>...</td>\n",
       "      <td>38.0</td>\n",
       "      <td>6000.0</td>\n",
       "      <td>NaN</td>\n",
       "      <td>0.0</td>\n",
       "      <td>0.0</td>\n",
       "      <td>0.0</td>\n",
       "      <td>1.0</td>\n",
       "      <td>0.0</td>\n",
       "      <td>0.0</td>\n",
       "      <td>1.0</td>\n",
       "    </tr>\n",
       "    <tr>\n",
       "      <th>2</th>\n",
       "      <td>62.0</td>\n",
       "      <td>80.0</td>\n",
       "      <td>1.01</td>\n",
       "      <td>2.0</td>\n",
       "      <td>3.0</td>\n",
       "      <td>1.0</td>\n",
       "      <td>1.0</td>\n",
       "      <td>0.0</td>\n",
       "      <td>0.0</td>\n",
       "      <td>423.0</td>\n",
       "      <td>...</td>\n",
       "      <td>31.0</td>\n",
       "      <td>7500.0</td>\n",
       "      <td>NaN</td>\n",
       "      <td>0.0</td>\n",
       "      <td>1.0</td>\n",
       "      <td>0.0</td>\n",
       "      <td>0.0</td>\n",
       "      <td>0.0</td>\n",
       "      <td>1.0</td>\n",
       "      <td>1.0</td>\n",
       "    </tr>\n",
       "  </tbody>\n",
       "</table>\n",
       "<p>3 rows × 25 columns</p>\n",
       "</div>"
      ],
      "text/plain": [
       "    age    bp    sg   al   su  rbc   pc  pcc   ba    bgr  ...   pcv    wbcc  \\\n",
       "0  48.0  80.0  1.02  1.0  0.0  NaN  1.0  0.0  0.0  121.0  ...  44.0  7800.0   \n",
       "1   7.0  50.0  1.02  4.0  0.0  NaN  1.0  0.0  0.0    NaN  ...  38.0  6000.0   \n",
       "2  62.0  80.0  1.01  2.0  3.0  1.0  1.0  0.0  0.0  423.0  ...  31.0  7500.0   \n",
       "\n",
       "   rbcc  htn   dm  cad  appet   pe  ane  class  \n",
       "0   5.2  1.0  1.0  0.0    1.0  0.0  0.0    1.0  \n",
       "1   NaN  0.0  0.0  0.0    1.0  0.0  0.0    1.0  \n",
       "2   NaN  0.0  1.0  0.0    0.0  0.0  1.0    1.0  \n",
       "\n",
       "[3 rows x 25 columns]"
      ]
     },
     "execution_count": 517,
     "metadata": {},
     "output_type": "execute_result"
    }
   ],
   "source": [
    "# Cat transformation\n",
    "columns_cat = ['sg', 'al', 'su']\n",
    "for col in columns_cat:\n",
    "    df[col] = pd.Categorical(df[col])\n",
    "\n",
    "# Binary trans\n",
    "columns_bin = ['rbc','pc','pcc','ba','htn','dm','cad','appet','pe','ane','class']\n",
    "mapping = {'normal': 1, 'present': 1, 'abnormal': 0, 'notpresent': 0, 'yes':1,'no':0,'good':1,'poor':0,'ckd':1,'notckd':0}\n",
    "\n",
    "for column in columns_bin:\n",
    "    df[column] = df[column].map(mapping).astype(float)\n",
    "df.head(3)"
   ]
  },
  {
   "cell_type": "code",
   "execution_count": 518,
   "metadata": {},
   "outputs": [
    {
     "name": "stdout",
     "output_type": "stream",
     "text": [
      "sg\n",
      "1.02     0.300283\n",
      "1.01     0.237960\n",
      "1.025    0.229462\n",
      "1.015    0.212465\n",
      "1.005    0.019830\n",
      "Name: proportion, dtype: float64\n",
      "al\n",
      "0.0    0.562147\n",
      "1.0    0.124294\n",
      "2.0    0.121469\n",
      "3.0    0.121469\n",
      "4.0    0.067797\n",
      "5.0    0.002825\n",
      "Name: proportion, dtype: float64\n",
      "su\n",
      "0.0    0.826211\n",
      "2.0    0.051282\n",
      "3.0    0.039886\n",
      "1.0    0.037037\n",
      "4.0    0.037037\n",
      "5.0    0.008547\n",
      "Name: proportion, dtype: float64\n"
     ]
    }
   ],
   "source": [
    "for col in columns_cat:\n",
    "    print(df[col].value_counts(normalize=True))"
   ]
  },
  {
   "cell_type": "markdown",
   "metadata": {},
   "source": [
    "In general, we do not need to convert binary variables. Since the classification algorithm is sensitive to the scale of the data, we choose to standardize those data under integer and continuous variable."
   ]
  },
  {
   "cell_type": "markdown",
   "metadata": {},
   "source": [
    "### **3. Dataset Overview**"
   ]
  },
  {
   "cell_type": "code",
   "execution_count": 519,
   "metadata": {},
   "outputs": [
    {
     "data": {
      "text/html": [
       "<div>\n",
       "<style scoped>\n",
       "    .dataframe tbody tr th:only-of-type {\n",
       "        vertical-align: middle;\n",
       "    }\n",
       "\n",
       "    .dataframe tbody tr th {\n",
       "        vertical-align: top;\n",
       "    }\n",
       "\n",
       "    .dataframe thead th {\n",
       "        text-align: right;\n",
       "    }\n",
       "</style>\n",
       "<table border=\"1\" class=\"dataframe\">\n",
       "  <thead>\n",
       "    <tr style=\"text-align: right;\">\n",
       "      <th></th>\n",
       "      <th>age</th>\n",
       "      <th>bp</th>\n",
       "      <th>sg</th>\n",
       "      <th>al</th>\n",
       "      <th>su</th>\n",
       "      <th>rbc</th>\n",
       "      <th>pc</th>\n",
       "      <th>pcc</th>\n",
       "      <th>ba</th>\n",
       "      <th>bgr</th>\n",
       "      <th>...</th>\n",
       "      <th>pcv</th>\n",
       "      <th>wbcc</th>\n",
       "      <th>rbcc</th>\n",
       "      <th>htn</th>\n",
       "      <th>dm</th>\n",
       "      <th>cad</th>\n",
       "      <th>appet</th>\n",
       "      <th>pe</th>\n",
       "      <th>ane</th>\n",
       "      <th>class</th>\n",
       "    </tr>\n",
       "  </thead>\n",
       "  <tbody>\n",
       "    <tr>\n",
       "      <th>count</th>\n",
       "      <td>391.000000</td>\n",
       "      <td>388.000000</td>\n",
       "      <td>353.00</td>\n",
       "      <td>354.0</td>\n",
       "      <td>351.0</td>\n",
       "      <td>248.000000</td>\n",
       "      <td>335.000000</td>\n",
       "      <td>396.000000</td>\n",
       "      <td>396.000000</td>\n",
       "      <td>356.000000</td>\n",
       "      <td>...</td>\n",
       "      <td>329.000000</td>\n",
       "      <td>294.000000</td>\n",
       "      <td>269.000000</td>\n",
       "      <td>398.000000</td>\n",
       "      <td>397.000000</td>\n",
       "      <td>398.000000</td>\n",
       "      <td>399.000000</td>\n",
       "      <td>399.000000</td>\n",
       "      <td>399.000000</td>\n",
       "      <td>398.000000</td>\n",
       "    </tr>\n",
       "    <tr>\n",
       "      <th>unique</th>\n",
       "      <td>NaN</td>\n",
       "      <td>NaN</td>\n",
       "      <td>5.00</td>\n",
       "      <td>6.0</td>\n",
       "      <td>6.0</td>\n",
       "      <td>NaN</td>\n",
       "      <td>NaN</td>\n",
       "      <td>NaN</td>\n",
       "      <td>NaN</td>\n",
       "      <td>NaN</td>\n",
       "      <td>...</td>\n",
       "      <td>NaN</td>\n",
       "      <td>NaN</td>\n",
       "      <td>NaN</td>\n",
       "      <td>NaN</td>\n",
       "      <td>NaN</td>\n",
       "      <td>NaN</td>\n",
       "      <td>NaN</td>\n",
       "      <td>NaN</td>\n",
       "      <td>NaN</td>\n",
       "      <td>NaN</td>\n",
       "    </tr>\n",
       "    <tr>\n",
       "      <th>top</th>\n",
       "      <td>NaN</td>\n",
       "      <td>NaN</td>\n",
       "      <td>1.02</td>\n",
       "      <td>0.0</td>\n",
       "      <td>0.0</td>\n",
       "      <td>NaN</td>\n",
       "      <td>NaN</td>\n",
       "      <td>NaN</td>\n",
       "      <td>NaN</td>\n",
       "      <td>NaN</td>\n",
       "      <td>...</td>\n",
       "      <td>NaN</td>\n",
       "      <td>NaN</td>\n",
       "      <td>NaN</td>\n",
       "      <td>NaN</td>\n",
       "      <td>NaN</td>\n",
       "      <td>NaN</td>\n",
       "      <td>NaN</td>\n",
       "      <td>NaN</td>\n",
       "      <td>NaN</td>\n",
       "      <td>NaN</td>\n",
       "    </tr>\n",
       "    <tr>\n",
       "      <th>freq</th>\n",
       "      <td>NaN</td>\n",
       "      <td>NaN</td>\n",
       "      <td>106.00</td>\n",
       "      <td>199.0</td>\n",
       "      <td>290.0</td>\n",
       "      <td>NaN</td>\n",
       "      <td>NaN</td>\n",
       "      <td>NaN</td>\n",
       "      <td>NaN</td>\n",
       "      <td>NaN</td>\n",
       "      <td>...</td>\n",
       "      <td>NaN</td>\n",
       "      <td>NaN</td>\n",
       "      <td>NaN</td>\n",
       "      <td>NaN</td>\n",
       "      <td>NaN</td>\n",
       "      <td>NaN</td>\n",
       "      <td>NaN</td>\n",
       "      <td>NaN</td>\n",
       "      <td>NaN</td>\n",
       "      <td>NaN</td>\n",
       "    </tr>\n",
       "    <tr>\n",
       "      <th>mean</th>\n",
       "      <td>51.483376</td>\n",
       "      <td>76.469072</td>\n",
       "      <td>NaN</td>\n",
       "      <td>NaN</td>\n",
       "      <td>NaN</td>\n",
       "      <td>0.810484</td>\n",
       "      <td>0.773134</td>\n",
       "      <td>0.106061</td>\n",
       "      <td>0.055556</td>\n",
       "      <td>148.036517</td>\n",
       "      <td>...</td>\n",
       "      <td>38.884498</td>\n",
       "      <td>8406.122449</td>\n",
       "      <td>4.707435</td>\n",
       "      <td>0.369347</td>\n",
       "      <td>0.345088</td>\n",
       "      <td>0.085427</td>\n",
       "      <td>0.794486</td>\n",
       "      <td>0.190476</td>\n",
       "      <td>0.150376</td>\n",
       "      <td>0.623116</td>\n",
       "    </tr>\n",
       "    <tr>\n",
       "      <th>std</th>\n",
       "      <td>17.169714</td>\n",
       "      <td>13.683637</td>\n",
       "      <td>NaN</td>\n",
       "      <td>NaN</td>\n",
       "      <td>NaN</td>\n",
       "      <td>0.392711</td>\n",
       "      <td>0.419431</td>\n",
       "      <td>0.308305</td>\n",
       "      <td>0.229351</td>\n",
       "      <td>79.281714</td>\n",
       "      <td>...</td>\n",
       "      <td>8.990105</td>\n",
       "      <td>2944.474190</td>\n",
       "      <td>1.025323</td>\n",
       "      <td>0.483235</td>\n",
       "      <td>0.475997</td>\n",
       "      <td>0.279868</td>\n",
       "      <td>0.404584</td>\n",
       "      <td>0.393170</td>\n",
       "      <td>0.357888</td>\n",
       "      <td>0.485216</td>\n",
       "    </tr>\n",
       "    <tr>\n",
       "      <th>min</th>\n",
       "      <td>2.000000</td>\n",
       "      <td>50.000000</td>\n",
       "      <td>NaN</td>\n",
       "      <td>NaN</td>\n",
       "      <td>NaN</td>\n",
       "      <td>0.000000</td>\n",
       "      <td>0.000000</td>\n",
       "      <td>0.000000</td>\n",
       "      <td>0.000000</td>\n",
       "      <td>22.000000</td>\n",
       "      <td>...</td>\n",
       "      <td>9.000000</td>\n",
       "      <td>2200.000000</td>\n",
       "      <td>2.100000</td>\n",
       "      <td>0.000000</td>\n",
       "      <td>0.000000</td>\n",
       "      <td>0.000000</td>\n",
       "      <td>0.000000</td>\n",
       "      <td>0.000000</td>\n",
       "      <td>0.000000</td>\n",
       "      <td>0.000000</td>\n",
       "    </tr>\n",
       "    <tr>\n",
       "      <th>25%</th>\n",
       "      <td>42.000000</td>\n",
       "      <td>70.000000</td>\n",
       "      <td>NaN</td>\n",
       "      <td>NaN</td>\n",
       "      <td>NaN</td>\n",
       "      <td>1.000000</td>\n",
       "      <td>1.000000</td>\n",
       "      <td>0.000000</td>\n",
       "      <td>0.000000</td>\n",
       "      <td>99.000000</td>\n",
       "      <td>...</td>\n",
       "      <td>32.000000</td>\n",
       "      <td>6500.000000</td>\n",
       "      <td>3.900000</td>\n",
       "      <td>0.000000</td>\n",
       "      <td>0.000000</td>\n",
       "      <td>0.000000</td>\n",
       "      <td>1.000000</td>\n",
       "      <td>0.000000</td>\n",
       "      <td>0.000000</td>\n",
       "      <td>0.000000</td>\n",
       "    </tr>\n",
       "    <tr>\n",
       "      <th>50%</th>\n",
       "      <td>55.000000</td>\n",
       "      <td>80.000000</td>\n",
       "      <td>NaN</td>\n",
       "      <td>NaN</td>\n",
       "      <td>NaN</td>\n",
       "      <td>1.000000</td>\n",
       "      <td>1.000000</td>\n",
       "      <td>0.000000</td>\n",
       "      <td>0.000000</td>\n",
       "      <td>121.000000</td>\n",
       "      <td>...</td>\n",
       "      <td>40.000000</td>\n",
       "      <td>8000.000000</td>\n",
       "      <td>4.800000</td>\n",
       "      <td>0.000000</td>\n",
       "      <td>0.000000</td>\n",
       "      <td>0.000000</td>\n",
       "      <td>1.000000</td>\n",
       "      <td>0.000000</td>\n",
       "      <td>0.000000</td>\n",
       "      <td>1.000000</td>\n",
       "    </tr>\n",
       "    <tr>\n",
       "      <th>75%</th>\n",
       "      <td>64.500000</td>\n",
       "      <td>80.000000</td>\n",
       "      <td>NaN</td>\n",
       "      <td>NaN</td>\n",
       "      <td>NaN</td>\n",
       "      <td>1.000000</td>\n",
       "      <td>1.000000</td>\n",
       "      <td>0.000000</td>\n",
       "      <td>0.000000</td>\n",
       "      <td>163.000000</td>\n",
       "      <td>...</td>\n",
       "      <td>45.000000</td>\n",
       "      <td>9800.000000</td>\n",
       "      <td>5.400000</td>\n",
       "      <td>1.000000</td>\n",
       "      <td>1.000000</td>\n",
       "      <td>0.000000</td>\n",
       "      <td>1.000000</td>\n",
       "      <td>0.000000</td>\n",
       "      <td>0.000000</td>\n",
       "      <td>1.000000</td>\n",
       "    </tr>\n",
       "    <tr>\n",
       "      <th>max</th>\n",
       "      <td>90.000000</td>\n",
       "      <td>180.000000</td>\n",
       "      <td>NaN</td>\n",
       "      <td>NaN</td>\n",
       "      <td>NaN</td>\n",
       "      <td>1.000000</td>\n",
       "      <td>1.000000</td>\n",
       "      <td>1.000000</td>\n",
       "      <td>1.000000</td>\n",
       "      <td>490.000000</td>\n",
       "      <td>...</td>\n",
       "      <td>54.000000</td>\n",
       "      <td>26400.000000</td>\n",
       "      <td>8.000000</td>\n",
       "      <td>1.000000</td>\n",
       "      <td>1.000000</td>\n",
       "      <td>1.000000</td>\n",
       "      <td>1.000000</td>\n",
       "      <td>1.000000</td>\n",
       "      <td>1.000000</td>\n",
       "      <td>1.000000</td>\n",
       "    </tr>\n",
       "  </tbody>\n",
       "</table>\n",
       "<p>11 rows × 25 columns</p>\n",
       "</div>"
      ],
      "text/plain": [
       "               age          bp      sg     al     su         rbc          pc  \\\n",
       "count   391.000000  388.000000  353.00  354.0  351.0  248.000000  335.000000   \n",
       "unique         NaN         NaN    5.00    6.0    6.0         NaN         NaN   \n",
       "top            NaN         NaN    1.02    0.0    0.0         NaN         NaN   \n",
       "freq           NaN         NaN  106.00  199.0  290.0         NaN         NaN   \n",
       "mean     51.483376   76.469072     NaN    NaN    NaN    0.810484    0.773134   \n",
       "std      17.169714   13.683637     NaN    NaN    NaN    0.392711    0.419431   \n",
       "min       2.000000   50.000000     NaN    NaN    NaN    0.000000    0.000000   \n",
       "25%      42.000000   70.000000     NaN    NaN    NaN    1.000000    1.000000   \n",
       "50%      55.000000   80.000000     NaN    NaN    NaN    1.000000    1.000000   \n",
       "75%      64.500000   80.000000     NaN    NaN    NaN    1.000000    1.000000   \n",
       "max      90.000000  180.000000     NaN    NaN    NaN    1.000000    1.000000   \n",
       "\n",
       "               pcc          ba         bgr  ...         pcv          wbcc  \\\n",
       "count   396.000000  396.000000  356.000000  ...  329.000000    294.000000   \n",
       "unique         NaN         NaN         NaN  ...         NaN           NaN   \n",
       "top            NaN         NaN         NaN  ...         NaN           NaN   \n",
       "freq           NaN         NaN         NaN  ...         NaN           NaN   \n",
       "mean      0.106061    0.055556  148.036517  ...   38.884498   8406.122449   \n",
       "std       0.308305    0.229351   79.281714  ...    8.990105   2944.474190   \n",
       "min       0.000000    0.000000   22.000000  ...    9.000000   2200.000000   \n",
       "25%       0.000000    0.000000   99.000000  ...   32.000000   6500.000000   \n",
       "50%       0.000000    0.000000  121.000000  ...   40.000000   8000.000000   \n",
       "75%       0.000000    0.000000  163.000000  ...   45.000000   9800.000000   \n",
       "max       1.000000    1.000000  490.000000  ...   54.000000  26400.000000   \n",
       "\n",
       "              rbcc         htn          dm         cad       appet  \\\n",
       "count   269.000000  398.000000  397.000000  398.000000  399.000000   \n",
       "unique         NaN         NaN         NaN         NaN         NaN   \n",
       "top            NaN         NaN         NaN         NaN         NaN   \n",
       "freq           NaN         NaN         NaN         NaN         NaN   \n",
       "mean      4.707435    0.369347    0.345088    0.085427    0.794486   \n",
       "std       1.025323    0.483235    0.475997    0.279868    0.404584   \n",
       "min       2.100000    0.000000    0.000000    0.000000    0.000000   \n",
       "25%       3.900000    0.000000    0.000000    0.000000    1.000000   \n",
       "50%       4.800000    0.000000    0.000000    0.000000    1.000000   \n",
       "75%       5.400000    1.000000    1.000000    0.000000    1.000000   \n",
       "max       8.000000    1.000000    1.000000    1.000000    1.000000   \n",
       "\n",
       "                pe         ane       class  \n",
       "count   399.000000  399.000000  398.000000  \n",
       "unique         NaN         NaN         NaN  \n",
       "top            NaN         NaN         NaN  \n",
       "freq           NaN         NaN         NaN  \n",
       "mean      0.190476    0.150376    0.623116  \n",
       "std       0.393170    0.357888    0.485216  \n",
       "min       0.000000    0.000000    0.000000  \n",
       "25%       0.000000    0.000000    0.000000  \n",
       "50%       0.000000    0.000000    1.000000  \n",
       "75%       0.000000    0.000000    1.000000  \n",
       "max       1.000000    1.000000    1.000000  \n",
       "\n",
       "[11 rows x 25 columns]"
      ]
     },
     "execution_count": 519,
     "metadata": {},
     "output_type": "execute_result"
    }
   ],
   "source": [
    "df.describe(include='all')"
   ]
  },
  {
   "cell_type": "code",
   "execution_count": 520,
   "metadata": {},
   "outputs": [
    {
     "name": "stdout",
     "output_type": "stream",
     "text": [
      "(400, 25)\n"
     ]
    },
    {
     "data": {
      "text/plain": [
       "age       float64\n",
       "bp        float64\n",
       "sg       category\n",
       "al       category\n",
       "su       category\n",
       "rbc       float64\n",
       "pc        float64\n",
       "pcc       float64\n",
       "ba        float64\n",
       "bgr       float64\n",
       "bu        float64\n",
       "sc        float64\n",
       "sod       float64\n",
       "pot       float64\n",
       "hemo      float64\n",
       "pcv       float64\n",
       "wbcc      float64\n",
       "rbcc      float64\n",
       "htn       float64\n",
       "dm        float64\n",
       "cad       float64\n",
       "appet     float64\n",
       "pe        float64\n",
       "ane       float64\n",
       "class     float64\n",
       "dtype: object"
      ]
     },
     "execution_count": 520,
     "metadata": {},
     "output_type": "execute_result"
    }
   ],
   "source": [
    "# Observations count\n",
    "print(df.shape)\n",
    "# type check\n",
    "df.dtypes"
   ]
  },
  {
   "cell_type": "code",
   "execution_count": 521,
   "metadata": {},
   "outputs": [
    {
     "data": {
      "text/plain": [
       "array([[<Axes: title={'center': 'age'}>, <Axes: title={'center': 'bp'}>,\n",
       "        <Axes: title={'center': 'bgr'}>],\n",
       "       [<Axes: title={'center': 'bu'}>, <Axes: title={'center': 'sod'}>,\n",
       "        <Axes: title={'center': 'pcv'}>],\n",
       "       [<Axes: title={'center': 'wbcc'}>, <Axes: title={'center': 'sc'}>,\n",
       "        <Axes: title={'center': 'pot'}>],\n",
       "       [<Axes: title={'center': 'hemo'}>,\n",
       "        <Axes: title={'center': 'rbcc'}>, <Axes: >]], dtype=object)"
      ]
     },
     "execution_count": 521,
     "metadata": {},
     "output_type": "execute_result"
    },
    {
     "data": {
      "image/png": "[encoded data removed]",
      "text/plain": [
       "<Figure size 600x800 with 12 Axes>"
      ]
     },
     "metadata": {},
     "output_type": "display_data"
    }
   ],
   "source": [
    "## Check the distribution of each variable\n",
    "num_col = ['age','bp','bgr','bu','sod','pcv','wbcc','sc','pot','hemo','rbcc']\n",
    "\n",
    "df[num_col].hist(xlabelsize=6,ylabelsize=6,figsize=(6,8))"
   ]
  },
  {
   "cell_type": "markdown",
   "metadata": {},
   "source": [
    "There are 400 observations and 25 variables in the dataset. After the transformation in Part 2. `sg`, `al`, `su` are Categorical variables now. `age`, `bp`, `bgr`, `bu`, `sod`, `pcv`, `wbcc`,`sc`,`pot`,`hemo`,and `rbcc` variables are all of type float. The rest of the variables are object(in this case Binary).\n",
    "\n",
    "According to the data summary, the mean of observations under the `age` variable was about 51.48. The maximum and minimum age are 90 and 2 respectively, respectively. Also, the mean of `bp` (blood pressure) is about 76.47. But there may be some missing values and outliers in the dataset based on the data summary.\n",
    "\n",
    "Also, we can find that most of them have the skewness problem by looking at the distribution of observations under each variable. So, this implies that there exist a lot of missing values and outliers in our dataset."
   ]
  },
  {
   "cell_type": "markdown",
   "metadata": {},
   "source": [
    "### **4. Association Between Variables**"
   ]
  },
  {
   "cell_type": "markdown",
   "metadata": {},
   "source": [
    "Create a heatmap to find potential relationship between variables."
   ]
  },
  {
   "cell_type": "code",
   "execution_count": 522,
   "metadata": {},
   "outputs": [
    {
     "data": {
      "image/png": "[encoded data removed]",
      "text/plain": [
       "<Figure size 700x500 with 2 Axes>"
      ]
     },
     "metadata": {},
     "output_type": "display_data"
    }
   ],
   "source": [
    "num_col = ['age','bp','bgr','bu','sod','pcv','wbcc','sc','pot','hemo','rbcc']\n",
    "\n",
    "# Compute the correlation matrix\n",
    "correlation_matrix = df[num_col].corr()\n",
    "\n",
    "# Plot the correlation matrix\n",
    "plt.figure(figsize=(7, 5))\n",
    "sns.heatmap(correlation_matrix, annot=True, cmap='coolwarm', fmt=\".2f\")\n",
    "plt.title('Correlation Matrix')\n",
    "plt.show()"
   ]
  },
  {
   "cell_type": "markdown",
   "metadata": {},
   "source": [
    "Variables `sc` (serum creatinine) and `hemo` (hemoglobin) have a strong negative correlation (-0.61), suggesting that as serum creatinine levels increase, hemoglobin levels tend to decrease.\n",
    "\n",
    "`pcv` (packed cell volume) and `hemo` (hemoglobin) show a strong positive correlation (0.90). This indicates that when the Packed cell volume rises, the amount of Hemoglbin will also increase. This may be because both are related to the blood's ability to carry oxygen.\n",
    "\n",
    "`sod` (sodium) appears to have a moderate negative correlation with `bu` (blood urea) and `sc` (serum creatinine), which might suggest that higher levels of urea and creatinine in the blood are associated with lower sodium levels."
   ]
  },
  {
   "cell_type": "code",
   "execution_count": 523,
   "metadata": {},
   "outputs": [
    {
     "data": {
      "text/html": [
       "<div>\n",
       "<style scoped>\n",
       "    .dataframe tbody tr th:only-of-type {\n",
       "        vertical-align: middle;\n",
       "    }\n",
       "\n",
       "    .dataframe tbody tr th {\n",
       "        vertical-align: top;\n",
       "    }\n",
       "\n",
       "    .dataframe thead th {\n",
       "        text-align: right;\n",
       "    }\n",
       "</style>\n",
       "<table border=\"1\" class=\"dataframe\">\n",
       "  <thead>\n",
       "    <tr style=\"text-align: right;\">\n",
       "      <th></th>\n",
       "      <th>vif</th>\n",
       "    </tr>\n",
       "  </thead>\n",
       "  <tbody>\n",
       "    <tr>\n",
       "      <th>bp</th>\n",
       "      <td>33.314145</td>\n",
       "    </tr>\n",
       "    <tr>\n",
       "      <th>bgr</th>\n",
       "      <td>5.228453</td>\n",
       "    </tr>\n",
       "    <tr>\n",
       "      <th>bu</th>\n",
       "      <td>10.308152</td>\n",
       "    </tr>\n",
       "    <tr>\n",
       "      <th>sod</th>\n",
       "      <td>154.643905</td>\n",
       "    </tr>\n",
       "    <tr>\n",
       "      <th>pcv</th>\n",
       "      <td>106.157383</td>\n",
       "    </tr>\n",
       "    <tr>\n",
       "      <th>wbcc</th>\n",
       "      <td>10.830481</td>\n",
       "    </tr>\n",
       "    <tr>\n",
       "      <th>sc</th>\n",
       "      <td>7.157653</td>\n",
       "    </tr>\n",
       "    <tr>\n",
       "      <th>pot</th>\n",
       "      <td>3.696926</td>\n",
       "    </tr>\n",
       "    <tr>\n",
       "      <th>hemo</th>\n",
       "      <td>110.751640</td>\n",
       "    </tr>\n",
       "    <tr>\n",
       "      <th>rbcc</th>\n",
       "      <td>63.753595</td>\n",
       "    </tr>\n",
       "  </tbody>\n",
       "</table>\n",
       "</div>"
      ],
      "text/plain": [
       "             vif\n",
       "bp     33.314145\n",
       "bgr     5.228453\n",
       "bu     10.308152\n",
       "sod   154.643905\n",
       "pcv   106.157383\n",
       "wbcc   10.830481\n",
       "sc      7.157653\n",
       "pot     3.696926\n",
       "hemo  110.751640\n",
       "rbcc   63.753595"
      ]
     },
     "execution_count": 523,
     "metadata": {},
     "output_type": "execute_result"
    }
   ],
   "source": [
    "from statsmodels.stats.outliers_influence import variance_inflation_factor as VIF\n",
    "\n",
    "df_cleaned = df[num_col].dropna()\n",
    "vals = [VIF(df_cleaned, i)\n",
    "        for i in range(1, df_cleaned.shape[1])]\n",
    "vif = pd.DataFrame({'vif':vals}, index=df_cleaned.columns[1:])\n",
    "vif"
   ]
  },
  {
   "cell_type": "markdown",
   "metadata": {},
   "source": [
    "From variance inflation factor, `sod`, `pcv` and `hemo` have extremely large value, this indicates that they have severe multicollinearity issues. To solve this problem, Ridge Regression/ PCA or LASSO will be applied in the next part. "
   ]
  },
  {
   "cell_type": "markdown",
   "metadata": {},
   "source": [
    "### **5. Missing Value Analysis and Handling**"
   ]
  },
  {
   "cell_type": "code",
   "execution_count": 524,
   "metadata": {},
   "outputs": [
    {
     "data": {
      "text/plain": [
       "age        9\n",
       "bp        12\n",
       "sg        47\n",
       "al        46\n",
       "su        49\n",
       "rbc      152\n",
       "pc        65\n",
       "pcc        4\n",
       "ba         4\n",
       "bgr       44\n",
       "bu        19\n",
       "sc        17\n",
       "sod       87\n",
       "pot       88\n",
       "hemo      52\n",
       "pcv       71\n",
       "wbcc     106\n",
       "rbcc     131\n",
       "htn        2\n",
       "dm         3\n",
       "cad        2\n",
       "appet      1\n",
       "pe         1\n",
       "ane        1\n",
       "class      2\n",
       "dtype: int64"
      ]
     },
     "execution_count": 524,
     "metadata": {},
     "output_type": "execute_result"
    }
   ],
   "source": [
    "## Check the missing vlaue\n",
    "df.isna().sum()"
   ]
  },
  {
   "cell_type": "code",
   "execution_count": 525,
   "metadata": {},
   "outputs": [
    {
     "name": "stdout",
     "output_type": "stream",
     "text": [
      "(400, 25)\n",
      "(158, 25)\n"
     ]
    }
   ],
   "source": [
    "print(df.shape)\n",
    "\n",
    "## Drop the missing values\n",
    "df_dropna = df.dropna()\n",
    "print(df_dropna.shape)\n"
   ]
  },
  {
   "cell_type": "markdown",
   "metadata": {},
   "source": [
    "Based on the distribution of observed values for each variable in the dataset overview, we need to replace in those missing values in different ways. If the distribution is approximately normal, we choose to replace it with mean. If there is a skewness, we need to replace it in with median.\n",
    "\n",
    "So, for `age`, `pcv`, `rbcc` variables. We choose to replace their missing values with mean. For the missing observations in the remaining variables, we replace them with median"
   ]
  },
  {
   "cell_type": "code",
   "execution_count": 526,
   "metadata": {},
   "outputs": [],
   "source": [
    "columns_cat = ['sg', 'al', 'su']\n",
    "\n",
    "for col in columns_cat:\n",
    "    df[col] = pd.to_numeric(df[col])"
   ]
  },
  {
   "cell_type": "code",
   "execution_count": 527,
   "metadata": {},
   "outputs": [],
   "source": [
    "#| warning: false\n",
    "mean_col = ['age','pcv','rbcc']\n",
    "median_col = ['bp','bgr','bu','sod','wbcc','sc','pot','hemo']\n",
    "columns_bin = ['rbc','pc','pcc','ba','htn','dm','cad','appet','pe','ane','class']\n",
    "columns_cat = ['sg', 'al', 'su']\n",
    "\n",
    "for column in mean_col:\n",
    "    df[column].fillna(df[column].mean(), inplace=True)\n",
    "\n",
    "for column in median_col:\n",
    "    df[column].fillna(df[column].median(), inplace=True)\n",
    "\n",
    "for column in columns_bin:\n",
    "    df[column].fillna(df[column].median(), inplace=True)\n",
    "\n",
    "for column in columns_cat:\n",
    "    df[column].fillna(df[column].median(), inplace=True)"
   ]
  },
  {
   "cell_type": "code",
   "execution_count": 528,
   "metadata": {},
   "outputs": [],
   "source": [
    "columns_cat = ['sg', 'al', 'su']\n",
    "for col in columns_cat:\n",
    "    df[col] = pd.Categorical(df[col])\n",
    "\n",
    "for col in columns_bin:\n",
    "    df[col] = pd.Categorical(df[col])"
   ]
  },
  {
   "cell_type": "code",
   "execution_count": 529,
   "metadata": {},
   "outputs": [
    {
     "data": {
      "text/html": [
       "<div>\n",
       "<style scoped>\n",
       "    .dataframe tbody tr th:only-of-type {\n",
       "        vertical-align: middle;\n",
       "    }\n",
       "\n",
       "    .dataframe tbody tr th {\n",
       "        vertical-align: top;\n",
       "    }\n",
       "\n",
       "    .dataframe thead th {\n",
       "        text-align: right;\n",
       "    }\n",
       "</style>\n",
       "<table border=\"1\" class=\"dataframe\">\n",
       "  <thead>\n",
       "    <tr style=\"text-align: right;\">\n",
       "      <th></th>\n",
       "      <th>age</th>\n",
       "      <th>bp</th>\n",
       "      <th>sg</th>\n",
       "      <th>al</th>\n",
       "      <th>su</th>\n",
       "      <th>rbc</th>\n",
       "      <th>pc</th>\n",
       "      <th>pcc</th>\n",
       "      <th>ba</th>\n",
       "      <th>bgr</th>\n",
       "      <th>...</th>\n",
       "      <th>pcv</th>\n",
       "      <th>wbcc</th>\n",
       "      <th>rbcc</th>\n",
       "      <th>htn</th>\n",
       "      <th>dm</th>\n",
       "      <th>cad</th>\n",
       "      <th>appet</th>\n",
       "      <th>pe</th>\n",
       "      <th>ane</th>\n",
       "      <th>class</th>\n",
       "    </tr>\n",
       "  </thead>\n",
       "  <tbody>\n",
       "    <tr>\n",
       "      <th>0</th>\n",
       "      <td>48.0</td>\n",
       "      <td>80.0</td>\n",
       "      <td>1.020</td>\n",
       "      <td>1.0</td>\n",
       "      <td>0.0</td>\n",
       "      <td>1.0</td>\n",
       "      <td>1.0</td>\n",
       "      <td>0.0</td>\n",
       "      <td>0.0</td>\n",
       "      <td>121.0</td>\n",
       "      <td>...</td>\n",
       "      <td>44.0</td>\n",
       "      <td>7800.0</td>\n",
       "      <td>5.200000</td>\n",
       "      <td>1.0</td>\n",
       "      <td>1.0</td>\n",
       "      <td>0.0</td>\n",
       "      <td>1.0</td>\n",
       "      <td>0.0</td>\n",
       "      <td>0.0</td>\n",
       "      <td>1.0</td>\n",
       "    </tr>\n",
       "    <tr>\n",
       "      <th>1</th>\n",
       "      <td>7.0</td>\n",
       "      <td>50.0</td>\n",
       "      <td>1.020</td>\n",
       "      <td>4.0</td>\n",
       "      <td>0.0</td>\n",
       "      <td>1.0</td>\n",
       "      <td>1.0</td>\n",
       "      <td>0.0</td>\n",
       "      <td>0.0</td>\n",
       "      <td>121.0</td>\n",
       "      <td>...</td>\n",
       "      <td>38.0</td>\n",
       "      <td>6000.0</td>\n",
       "      <td>4.707435</td>\n",
       "      <td>0.0</td>\n",
       "      <td>0.0</td>\n",
       "      <td>0.0</td>\n",
       "      <td>1.0</td>\n",
       "      <td>0.0</td>\n",
       "      <td>0.0</td>\n",
       "      <td>1.0</td>\n",
       "    </tr>\n",
       "    <tr>\n",
       "      <th>2</th>\n",
       "      <td>62.0</td>\n",
       "      <td>80.0</td>\n",
       "      <td>1.010</td>\n",
       "      <td>2.0</td>\n",
       "      <td>3.0</td>\n",
       "      <td>1.0</td>\n",
       "      <td>1.0</td>\n",
       "      <td>0.0</td>\n",
       "      <td>0.0</td>\n",
       "      <td>423.0</td>\n",
       "      <td>...</td>\n",
       "      <td>31.0</td>\n",
       "      <td>7500.0</td>\n",
       "      <td>4.707435</td>\n",
       "      <td>0.0</td>\n",
       "      <td>1.0</td>\n",
       "      <td>0.0</td>\n",
       "      <td>0.0</td>\n",
       "      <td>0.0</td>\n",
       "      <td>1.0</td>\n",
       "      <td>1.0</td>\n",
       "    </tr>\n",
       "    <tr>\n",
       "      <th>3</th>\n",
       "      <td>48.0</td>\n",
       "      <td>70.0</td>\n",
       "      <td>1.005</td>\n",
       "      <td>4.0</td>\n",
       "      <td>0.0</td>\n",
       "      <td>1.0</td>\n",
       "      <td>0.0</td>\n",
       "      <td>1.0</td>\n",
       "      <td>0.0</td>\n",
       "      <td>117.0</td>\n",
       "      <td>...</td>\n",
       "      <td>32.0</td>\n",
       "      <td>6700.0</td>\n",
       "      <td>3.900000</td>\n",
       "      <td>1.0</td>\n",
       "      <td>0.0</td>\n",
       "      <td>0.0</td>\n",
       "      <td>0.0</td>\n",
       "      <td>1.0</td>\n",
       "      <td>1.0</td>\n",
       "      <td>1.0</td>\n",
       "    </tr>\n",
       "    <tr>\n",
       "      <th>4</th>\n",
       "      <td>51.0</td>\n",
       "      <td>80.0</td>\n",
       "      <td>1.010</td>\n",
       "      <td>2.0</td>\n",
       "      <td>0.0</td>\n",
       "      <td>1.0</td>\n",
       "      <td>1.0</td>\n",
       "      <td>0.0</td>\n",
       "      <td>0.0</td>\n",
       "      <td>106.0</td>\n",
       "      <td>...</td>\n",
       "      <td>35.0</td>\n",
       "      <td>7300.0</td>\n",
       "      <td>4.600000</td>\n",
       "      <td>0.0</td>\n",
       "      <td>0.0</td>\n",
       "      <td>0.0</td>\n",
       "      <td>1.0</td>\n",
       "      <td>0.0</td>\n",
       "      <td>0.0</td>\n",
       "      <td>1.0</td>\n",
       "    </tr>\n",
       "    <tr>\n",
       "      <th>5</th>\n",
       "      <td>60.0</td>\n",
       "      <td>90.0</td>\n",
       "      <td>1.015</td>\n",
       "      <td>3.0</td>\n",
       "      <td>0.0</td>\n",
       "      <td>1.0</td>\n",
       "      <td>1.0</td>\n",
       "      <td>0.0</td>\n",
       "      <td>0.0</td>\n",
       "      <td>74.0</td>\n",
       "      <td>...</td>\n",
       "      <td>39.0</td>\n",
       "      <td>7800.0</td>\n",
       "      <td>4.400000</td>\n",
       "      <td>1.0</td>\n",
       "      <td>1.0</td>\n",
       "      <td>0.0</td>\n",
       "      <td>1.0</td>\n",
       "      <td>1.0</td>\n",
       "      <td>0.0</td>\n",
       "      <td>1.0</td>\n",
       "    </tr>\n",
       "    <tr>\n",
       "      <th>6</th>\n",
       "      <td>68.0</td>\n",
       "      <td>70.0</td>\n",
       "      <td>1.010</td>\n",
       "      <td>0.0</td>\n",
       "      <td>0.0</td>\n",
       "      <td>1.0</td>\n",
       "      <td>1.0</td>\n",
       "      <td>0.0</td>\n",
       "      <td>0.0</td>\n",
       "      <td>100.0</td>\n",
       "      <td>...</td>\n",
       "      <td>36.0</td>\n",
       "      <td>8000.0</td>\n",
       "      <td>4.707435</td>\n",
       "      <td>0.0</td>\n",
       "      <td>0.0</td>\n",
       "      <td>0.0</td>\n",
       "      <td>1.0</td>\n",
       "      <td>0.0</td>\n",
       "      <td>0.0</td>\n",
       "      <td>1.0</td>\n",
       "    </tr>\n",
       "    <tr>\n",
       "      <th>7</th>\n",
       "      <td>24.0</td>\n",
       "      <td>80.0</td>\n",
       "      <td>1.015</td>\n",
       "      <td>2.0</td>\n",
       "      <td>4.0</td>\n",
       "      <td>1.0</td>\n",
       "      <td>0.0</td>\n",
       "      <td>0.0</td>\n",
       "      <td>0.0</td>\n",
       "      <td>410.0</td>\n",
       "      <td>...</td>\n",
       "      <td>44.0</td>\n",
       "      <td>6900.0</td>\n",
       "      <td>5.000000</td>\n",
       "      <td>0.0</td>\n",
       "      <td>1.0</td>\n",
       "      <td>0.0</td>\n",
       "      <td>1.0</td>\n",
       "      <td>1.0</td>\n",
       "      <td>0.0</td>\n",
       "      <td>1.0</td>\n",
       "    </tr>\n",
       "    <tr>\n",
       "      <th>8</th>\n",
       "      <td>52.0</td>\n",
       "      <td>100.0</td>\n",
       "      <td>1.015</td>\n",
       "      <td>3.0</td>\n",
       "      <td>0.0</td>\n",
       "      <td>1.0</td>\n",
       "      <td>0.0</td>\n",
       "      <td>1.0</td>\n",
       "      <td>0.0</td>\n",
       "      <td>138.0</td>\n",
       "      <td>...</td>\n",
       "      <td>33.0</td>\n",
       "      <td>9600.0</td>\n",
       "      <td>4.000000</td>\n",
       "      <td>1.0</td>\n",
       "      <td>1.0</td>\n",
       "      <td>0.0</td>\n",
       "      <td>1.0</td>\n",
       "      <td>0.0</td>\n",
       "      <td>1.0</td>\n",
       "      <td>1.0</td>\n",
       "    </tr>\n",
       "    <tr>\n",
       "      <th>9</th>\n",
       "      <td>53.0</td>\n",
       "      <td>90.0</td>\n",
       "      <td>1.020</td>\n",
       "      <td>2.0</td>\n",
       "      <td>0.0</td>\n",
       "      <td>0.0</td>\n",
       "      <td>0.0</td>\n",
       "      <td>1.0</td>\n",
       "      <td>0.0</td>\n",
       "      <td>70.0</td>\n",
       "      <td>...</td>\n",
       "      <td>29.0</td>\n",
       "      <td>12100.0</td>\n",
       "      <td>3.700000</td>\n",
       "      <td>1.0</td>\n",
       "      <td>1.0</td>\n",
       "      <td>0.0</td>\n",
       "      <td>0.0</td>\n",
       "      <td>0.0</td>\n",
       "      <td>1.0</td>\n",
       "      <td>1.0</td>\n",
       "    </tr>\n",
       "  </tbody>\n",
       "</table>\n",
       "<p>10 rows × 25 columns</p>\n",
       "</div>"
      ],
      "text/plain": [
       "    age     bp     sg   al   su  rbc   pc  pcc   ba    bgr  ...   pcv  \\\n",
       "0  48.0   80.0  1.020  1.0  0.0  1.0  1.0  0.0  0.0  121.0  ...  44.0   \n",
       "1   7.0   50.0  1.020  4.0  0.0  1.0  1.0  0.0  0.0  121.0  ...  38.0   \n",
       "2  62.0   80.0  1.010  2.0  3.0  1.0  1.0  0.0  0.0  423.0  ...  31.0   \n",
       "3  48.0   70.0  1.005  4.0  0.0  1.0  0.0  1.0  0.0  117.0  ...  32.0   \n",
       "4  51.0   80.0  1.010  2.0  0.0  1.0  1.0  0.0  0.0  106.0  ...  35.0   \n",
       "5  60.0   90.0  1.015  3.0  0.0  1.0  1.0  0.0  0.0   74.0  ...  39.0   \n",
       "6  68.0   70.0  1.010  0.0  0.0  1.0  1.0  0.0  0.0  100.0  ...  36.0   \n",
       "7  24.0   80.0  1.015  2.0  4.0  1.0  0.0  0.0  0.0  410.0  ...  44.0   \n",
       "8  52.0  100.0  1.015  3.0  0.0  1.0  0.0  1.0  0.0  138.0  ...  33.0   \n",
       "9  53.0   90.0  1.020  2.0  0.0  0.0  0.0  1.0  0.0   70.0  ...  29.0   \n",
       "\n",
       "      wbcc      rbcc  htn   dm  cad  appet   pe  ane class  \n",
       "0   7800.0  5.200000  1.0  1.0  0.0    1.0  0.0  0.0   1.0  \n",
       "1   6000.0  4.707435  0.0  0.0  0.0    1.0  0.0  0.0   1.0  \n",
       "2   7500.0  4.707435  0.0  1.0  0.0    0.0  0.0  1.0   1.0  \n",
       "3   6700.0  3.900000  1.0  0.0  0.0    0.0  1.0  1.0   1.0  \n",
       "4   7300.0  4.600000  0.0  0.0  0.0    1.0  0.0  0.0   1.0  \n",
       "5   7800.0  4.400000  1.0  1.0  0.0    1.0  1.0  0.0   1.0  \n",
       "6   8000.0  4.707435  0.0  0.0  0.0    1.0  0.0  0.0   1.0  \n",
       "7   6900.0  5.000000  0.0  1.0  0.0    1.0  1.0  0.0   1.0  \n",
       "8   9600.0  4.000000  1.0  1.0  0.0    1.0  0.0  1.0   1.0  \n",
       "9  12100.0  3.700000  1.0  1.0  0.0    0.0  0.0  1.0   1.0  \n",
       "\n",
       "[10 rows x 25 columns]"
      ]
     },
     "execution_count": 529,
     "metadata": {},
     "output_type": "execute_result"
    }
   ],
   "source": [
    "df.head(10)"
   ]
  },
  {
   "cell_type": "code",
   "execution_count": 530,
   "metadata": {},
   "outputs": [
    {
     "data": {
      "text/plain": [
       "age      0\n",
       "bp       0\n",
       "sg       0\n",
       "al       0\n",
       "su       0\n",
       "rbc      0\n",
       "pc       0\n",
       "pcc      0\n",
       "ba       0\n",
       "bgr      0\n",
       "bu       0\n",
       "sc       0\n",
       "sod      0\n",
       "pot      0\n",
       "hemo     0\n",
       "pcv      0\n",
       "wbcc     0\n",
       "rbcc     0\n",
       "htn      0\n",
       "dm       0\n",
       "cad      0\n",
       "appet    0\n",
       "pe       0\n",
       "ane      0\n",
       "class    0\n",
       "dtype: int64"
      ]
     },
     "execution_count": 530,
     "metadata": {},
     "output_type": "execute_result"
    }
   ],
   "source": [
    "df.isna().sum()"
   ]
  },
  {
   "cell_type": "markdown",
   "metadata": {},
   "source": [
    "### **6. Outlier Analysis**"
   ]
  },
  {
   "cell_type": "code",
   "execution_count": 263,
   "metadata": {},
   "outputs": [
    {
     "data": {
      "image/png": "[encoded data removed]",
      "text/plain": [
       "<Figure size 3000x2000 with 12 Axes>"
      ]
     },
     "metadata": {},
     "output_type": "display_data"
    }
   ],
   "source": [
    "n_rows, n_cols = (3, 4)\n",
    "\n",
    "figure, axes = plt.subplots(nrows=n_rows, ncols=n_cols, figsize=(30, 20), facecolor='lightyellow')\n",
    "figure.suptitle('\\n\\nBoxplots of Numeric Features', fontsize=30)\n",
    "\n",
    "for index, column in enumerate(df[num_col].columns):\n",
    "    \n",
    "    i, j = index // n_cols, index % n_cols\n",
    "    \n",
    "    collabel = column\n",
    "    \n",
    "    sns.boxplot(x=df[column], ax=axes[i, j])\n",
    "    \n",
    "    axes[i, j].set_title(f'Boxplot for {collabel}', fontsize=30)\n",
    "    \n",
    "    axes[i, j].set_xlabel(None)\n",
    "    \n",
    "    axes[i, j].set_ylabel(\"Values\", fontsize=20)\n",
    "\n",
    "plt.show()"
   ]
  },
  {
   "cell_type": "code",
   "execution_count": 532,
   "metadata": {},
   "outputs": [],
   "source": [
    "from sklearn.preprocessing import scale"
   ]
  },
  {
   "cell_type": "code",
   "execution_count": 533,
   "metadata": {},
   "outputs": [],
   "source": [
    "for column in df[num_col].columns:\n",
    "    # Q3\n",
    "    Q3 = df[column].quantile(0.75)\n",
    "    Q1 = df[column].quantile(0.25)\n",
    "    # Max val\n",
    "    max_val = df[column].max()\n",
    "    # .95\n",
    "    np.quantile(df[column], 0.95)\n",
    "    # outlier threshold\n",
    "    threshold_max = Q3 + 1.5 * (Q3 - df[column].quantile(0.25))\n",
    "    threshold_min = Q1 - 1.5 * (Q3 - df[column].quantile(0.25))\n",
    "    # replace outlier with 95%\n",
    "    df[column] = np.where(\n",
    "        df[column] > threshold_max, \n",
    "        threshold_max, \n",
    "        df[column]\n",
    "        )\n",
    "    \n",
    "    df[column] = np.where(\n",
    "        df[column] < threshold_min, \n",
    "        threshold_min, \n",
    "        df[column]\n",
    "        )\n"
   ]
  },
  {
   "cell_type": "code",
   "execution_count": 264,
   "metadata": {},
   "outputs": [
    {
     "data": {
      "image/png": "[encoded data removed]",
      "text/plain": [
       "<Figure size 3000x2000 with 12 Axes>"
      ]
     },
     "metadata": {},
     "output_type": "display_data"
    }
   ],
   "source": [
    "n_rows, n_cols = (3, 4)\n",
    "\n",
    "figure, axes = plt.subplots(nrows=n_rows, ncols=n_cols, figsize=(30, 20), facecolor='lightyellow')\n",
    "figure.suptitle('\\n\\nBoxplots of Numeric Features', fontsize=30)\n",
    "\n",
    "for index, column in enumerate(df[num_col].columns):\n",
    "    \n",
    "    i, j = index // n_cols, index % n_cols\n",
    "    \n",
    "    collabel = column\n",
    "    \n",
    "    sns.boxplot(x=df[column], ax=axes[i, j])\n",
    "    \n",
    "    axes[i, j].set_title(f'Boxplot for {collabel}', fontsize=30)\n",
    "    \n",
    "    axes[i, j].set_xlabel(None)\n",
    "    \n",
    "    axes[i, j].set_ylabel(\"Values\", fontsize=20)\n",
    "\n",
    "plt.show()"
   ]
  },
  {
   "cell_type": "markdown",
   "metadata": {},
   "source": [
    "For the rest of the outliers we remove them ."
   ]
  },
  {
   "cell_type": "markdown",
   "metadata": {},
   "source": [
    "### **7. Sub-group Analysis**"
   ]
  },
  {
   "cell_type": "code",
   "execution_count": 535,
   "metadata": {},
   "outputs": [],
   "source": [
    "from sklearn.preprocessing import scale\n",
    "from sklearn.decomposition import PCA, TruncatedSVD, FactorAnalysis"
   ]
  },
  {
   "cell_type": "code",
   "execution_count": 536,
   "metadata": {},
   "outputs": [
    {
     "data": {
      "text/plain": [
       "age       51.568376\n",
       "bp        75.825000\n",
       "bgr      134.011250\n",
       "bu        50.277687\n",
       "sod      138.217500\n",
       "pcv       38.946998\n",
       "wbcc    8169.093750\n",
       "sc         2.071406\n",
       "pot        4.382750\n",
       "hemo      12.549000\n",
       "rbcc       4.739435\n",
       "dtype: float64"
      ]
     },
     "execution_count": 536,
     "metadata": {},
     "output_type": "execute_result"
    }
   ],
   "source": [
    "df[num_col].mean()"
   ]
  },
  {
   "cell_type": "code",
   "execution_count": 537,
   "metadata": {},
   "outputs": [
    {
     "data": {
      "text/plain": [
       "age     2.805060e+02\n",
       "bp      1.203703e+02\n",
       "bgr     2.124512e+03\n",
       "bu      9.171178e+02\n",
       "sod     2.780972e+01\n",
       "pcv     6.355595e+01\n",
       "wbcc    4.123827e+06\n",
       "sc      2.659236e+00\n",
       "pot     4.035864e-01\n",
       "hemo    7.272142e+00\n",
       "rbcc    4.554516e-01\n",
       "dtype: float64"
      ]
     },
     "execution_count": 537,
     "metadata": {},
     "output_type": "execute_result"
    }
   ],
   "source": [
    "df[num_col].var()"
   ]
  },
  {
   "cell_type": "markdown",
   "metadata": {},
   "source": [
    "for numial mean and variance, they have huge difference. Hence we need to applied PCA\n",
    "\n",
    "We must scale all variable before performing PCA, otherwise the principal components would be driven by the `bu` variable, since it has by far the largest mean and variance."
   ]
  },
  {
   "cell_type": "code",
   "execution_count": 538,
   "metadata": {},
   "outputs": [],
   "source": [
    "from sklearn.preprocessing import StandardScaler\n",
    "from sklearn.model_selection import train_test_split"
   ]
  },
  {
   "cell_type": "code",
   "execution_count": 539,
   "metadata": {},
   "outputs": [
    {
     "data": {
      "text/plain": [
       "age       float64\n",
       "bp        float64\n",
       "sg       category\n",
       "al       category\n",
       "su       category\n",
       "rbc      category\n",
       "pc       category\n",
       "pcc      category\n",
       "ba       category\n",
       "bgr       float64\n",
       "bu        float64\n",
       "sc        float64\n",
       "sod       float64\n",
       "pot       float64\n",
       "hemo      float64\n",
       "pcv       float64\n",
       "wbcc      float64\n",
       "rbcc      float64\n",
       "htn      category\n",
       "dm       category\n",
       "cad      category\n",
       "appet    category\n",
       "pe       category\n",
       "ane      category\n",
       "class    category\n",
       "dtype: object"
      ]
     },
     "execution_count": 539,
     "metadata": {},
     "output_type": "execute_result"
    }
   ],
   "source": [
    "df.dtypes"
   ]
  },
  {
   "cell_type": "code",
   "execution_count": 540,
   "metadata": {},
   "outputs": [],
   "source": [
    "scaler = StandardScaler()\n",
    "df[num_col] = scaler.fit_transform(\n",
    "    df[num_col]\n",
    ")"
   ]
  },
  {
   "cell_type": "code",
   "execution_count": 541,
   "metadata": {},
   "outputs": [],
   "source": [
    "df_test = df.drop(columns='class')\n",
    "X = pd.DataFrame(df_test, index=df_test.index, columns=df_test.columns)"
   ]
  },
  {
   "cell_type": "code",
   "execution_count": 542,
   "metadata": {},
   "outputs": [
    {
     "data": {
      "text/html": [
       "<div>\n",
       "<style scoped>\n",
       "    .dataframe tbody tr th:only-of-type {\n",
       "        vertical-align: middle;\n",
       "    }\n",
       "\n",
       "    .dataframe tbody tr th {\n",
       "        vertical-align: top;\n",
       "    }\n",
       "\n",
       "    .dataframe thead th {\n",
       "        text-align: right;\n",
       "    }\n",
       "</style>\n",
       "<table border=\"1\" class=\"dataframe\">\n",
       "  <thead>\n",
       "    <tr style=\"text-align: right;\">\n",
       "      <th></th>\n",
       "      <th>age</th>\n",
       "      <th>bp</th>\n",
       "      <th>sg</th>\n",
       "      <th>al</th>\n",
       "      <th>su</th>\n",
       "      <th>rbc</th>\n",
       "      <th>pc</th>\n",
       "      <th>pcc</th>\n",
       "      <th>ba</th>\n",
       "      <th>bgr</th>\n",
       "      <th>...</th>\n",
       "      <th>hemo</th>\n",
       "      <th>pcv</th>\n",
       "      <th>wbcc</th>\n",
       "      <th>rbcc</th>\n",
       "      <th>htn</th>\n",
       "      <th>dm</th>\n",
       "      <th>cad</th>\n",
       "      <th>appet</th>\n",
       "      <th>pe</th>\n",
       "      <th>ane</th>\n",
       "    </tr>\n",
       "  </thead>\n",
       "  <tbody>\n",
       "    <tr>\n",
       "      <th>0</th>\n",
       "      <td>-0.213326</td>\n",
       "      <td>0.381013</td>\n",
       "      <td>1.02</td>\n",
       "      <td>1.0</td>\n",
       "      <td>0.0</td>\n",
       "      <td>1.0</td>\n",
       "      <td>1.0</td>\n",
       "      <td>0.0</td>\n",
       "      <td>0.0</td>\n",
       "      <td>-0.282640</td>\n",
       "      <td>...</td>\n",
       "      <td>1.058546</td>\n",
       "      <td>0.634622</td>\n",
       "      <td>-0.181983</td>\n",
       "      <td>0.683303</td>\n",
       "      <td>1.0</td>\n",
       "      <td>1.0</td>\n",
       "      <td>0.0</td>\n",
       "      <td>1.0</td>\n",
       "      <td>0.0</td>\n",
       "      <td>0.0</td>\n",
       "    </tr>\n",
       "    <tr>\n",
       "      <th>1</th>\n",
       "      <td>-2.544835</td>\n",
       "      <td>-1.900504</td>\n",
       "      <td>1.02</td>\n",
       "      <td>4.0</td>\n",
       "      <td>0.0</td>\n",
       "      <td>1.0</td>\n",
       "      <td>1.0</td>\n",
       "      <td>0.0</td>\n",
       "      <td>0.0</td>\n",
       "      <td>-0.282640</td>\n",
       "      <td>...</td>\n",
       "      <td>-0.463740</td>\n",
       "      <td>-0.118936</td>\n",
       "      <td>-1.069478</td>\n",
       "      <td>-0.047476</td>\n",
       "      <td>0.0</td>\n",
       "      <td>0.0</td>\n",
       "      <td>0.0</td>\n",
       "      <td>1.0</td>\n",
       "      <td>0.0</td>\n",
       "      <td>0.0</td>\n",
       "    </tr>\n",
       "    <tr>\n",
       "      <th>2</th>\n",
       "      <td>0.623626</td>\n",
       "      <td>0.381013</td>\n",
       "      <td>1.01</td>\n",
       "      <td>2.0</td>\n",
       "      <td>3.0</td>\n",
       "      <td>1.0</td>\n",
       "      <td>1.0</td>\n",
       "      <td>0.0</td>\n",
       "      <td>0.0</td>\n",
       "      <td>1.943938</td>\n",
       "      <td>...</td>\n",
       "      <td>-1.094932</td>\n",
       "      <td>-0.998087</td>\n",
       "      <td>-0.329898</td>\n",
       "      <td>-0.047476</td>\n",
       "      <td>0.0</td>\n",
       "      <td>1.0</td>\n",
       "      <td>0.0</td>\n",
       "      <td>0.0</td>\n",
       "      <td>0.0</td>\n",
       "      <td>1.0</td>\n",
       "    </tr>\n",
       "  </tbody>\n",
       "</table>\n",
       "<p>3 rows × 24 columns</p>\n",
       "</div>"
      ],
      "text/plain": [
       "        age        bp    sg   al   su  rbc   pc  pcc   ba       bgr  ...  \\\n",
       "0 -0.213326  0.381013  1.02  1.0  0.0  1.0  1.0  0.0  0.0 -0.282640  ...   \n",
       "1 -2.544835 -1.900504  1.02  4.0  0.0  1.0  1.0  0.0  0.0 -0.282640  ...   \n",
       "2  0.623626  0.381013  1.01  2.0  3.0  1.0  1.0  0.0  0.0  1.943938  ...   \n",
       "\n",
       "       hemo       pcv      wbcc      rbcc  htn   dm  cad  appet   pe  ane  \n",
       "0  1.058546  0.634622 -0.181983  0.683303  1.0  1.0  0.0    1.0  0.0  0.0  \n",
       "1 -0.463740 -0.118936 -1.069478 -0.047476  0.0  0.0  0.0    1.0  0.0  0.0  \n",
       "2 -1.094932 -0.998087 -0.329898 -0.047476  0.0  1.0  0.0    0.0  0.0  1.0  \n",
       "\n",
       "[3 rows x 24 columns]"
      ]
     },
     "execution_count": 542,
     "metadata": {},
     "output_type": "execute_result"
    }
   ],
   "source": [
    "X.head(3)"
   ]
  },
  {
   "cell_type": "code",
   "execution_count": 543,
   "metadata": {},
   "outputs": [],
   "source": [
    "# X.var()"
   ]
  },
  {
   "cell_type": "markdown",
   "metadata": {},
   "source": [
    "all variables variance almost equal to 1, profomance is good"
   ]
  },
  {
   "cell_type": "code",
   "execution_count": 544,
   "metadata": {},
   "outputs": [],
   "source": [
    "pca_X = PCA()"
   ]
  },
  {
   "cell_type": "code",
   "execution_count": 545,
   "metadata": {},
   "outputs": [
    {
     "data": {
      "text/html": [
       "<div>\n",
       "<style scoped>\n",
       "    .dataframe tbody tr th:only-of-type {\n",
       "        vertical-align: middle;\n",
       "    }\n",
       "\n",
       "    .dataframe tbody tr th {\n",
       "        vertical-align: top;\n",
       "    }\n",
       "\n",
       "    .dataframe thead th {\n",
       "        text-align: right;\n",
       "    }\n",
       "</style>\n",
       "<table border=\"1\" class=\"dataframe\">\n",
       "  <thead>\n",
       "    <tr style=\"text-align: right;\">\n",
       "      <th></th>\n",
       "      <th>0</th>\n",
       "      <th>1</th>\n",
       "      <th>2</th>\n",
       "      <th>3</th>\n",
       "      <th>4</th>\n",
       "      <th>5</th>\n",
       "      <th>6</th>\n",
       "      <th>7</th>\n",
       "      <th>8</th>\n",
       "      <th>9</th>\n",
       "      <th>...</th>\n",
       "      <th>14</th>\n",
       "      <th>15</th>\n",
       "      <th>16</th>\n",
       "      <th>17</th>\n",
       "      <th>18</th>\n",
       "      <th>19</th>\n",
       "      <th>20</th>\n",
       "      <th>21</th>\n",
       "      <th>22</th>\n",
       "      <th>23</th>\n",
       "    </tr>\n",
       "  </thead>\n",
       "  <tbody>\n",
       "    <tr>\n",
       "      <th>0</th>\n",
       "      <td>-1.125512</td>\n",
       "      <td>0.219512</td>\n",
       "      <td>0.087501</td>\n",
       "      <td>0.432308</td>\n",
       "      <td>0.199319</td>\n",
       "      <td>-0.296985</td>\n",
       "      <td>-0.628805</td>\n",
       "      <td>0.100868</td>\n",
       "      <td>0.555595</td>\n",
       "      <td>-0.179754</td>\n",
       "      <td>...</td>\n",
       "      <td>-0.725845</td>\n",
       "      <td>0.585694</td>\n",
       "      <td>-0.072362</td>\n",
       "      <td>-0.209815</td>\n",
       "      <td>-0.212041</td>\n",
       "      <td>-0.031002</td>\n",
       "      <td>-0.023659</td>\n",
       "      <td>-0.073836</td>\n",
       "      <td>0.060574</td>\n",
       "      <td>-0.000499</td>\n",
       "    </tr>\n",
       "    <tr>\n",
       "      <th>1</th>\n",
       "      <td>-0.211117</td>\n",
       "      <td>-0.231368</td>\n",
       "      <td>3.833405</td>\n",
       "      <td>2.337527</td>\n",
       "      <td>-0.298878</td>\n",
       "      <td>0.650752</td>\n",
       "      <td>0.681665</td>\n",
       "      <td>-0.808775</td>\n",
       "      <td>-0.608468</td>\n",
       "      <td>-0.221466</td>\n",
       "      <td>...</td>\n",
       "      <td>-0.443049</td>\n",
       "      <td>-0.419959</td>\n",
       "      <td>-0.192604</td>\n",
       "      <td>-0.211853</td>\n",
       "      <td>0.159069</td>\n",
       "      <td>0.056653</td>\n",
       "      <td>-0.038995</td>\n",
       "      <td>-0.054551</td>\n",
       "      <td>-0.165200</td>\n",
       "      <td>0.004422</td>\n",
       "    </tr>\n",
       "    <tr>\n",
       "      <th>2</th>\n",
       "      <td>2.266950</td>\n",
       "      <td>2.412920</td>\n",
       "      <td>-0.573040</td>\n",
       "      <td>0.812566</td>\n",
       "      <td>0.700742</td>\n",
       "      <td>0.114930</td>\n",
       "      <td>0.594379</td>\n",
       "      <td>-0.307882</td>\n",
       "      <td>-0.676141</td>\n",
       "      <td>0.123624</td>\n",
       "      <td>...</td>\n",
       "      <td>0.228477</td>\n",
       "      <td>-0.907974</td>\n",
       "      <td>-0.683296</td>\n",
       "      <td>-0.508890</td>\n",
       "      <td>-0.490741</td>\n",
       "      <td>0.249481</td>\n",
       "      <td>0.279629</td>\n",
       "      <td>-0.172667</td>\n",
       "      <td>-0.086077</td>\n",
       "      <td>-0.003876</td>\n",
       "    </tr>\n",
       "    <tr>\n",
       "      <th>3</th>\n",
       "      <td>2.936236</td>\n",
       "      <td>-0.677029</td>\n",
       "      <td>3.487958</td>\n",
       "      <td>-0.323162</td>\n",
       "      <td>1.835178</td>\n",
       "      <td>0.971171</td>\n",
       "      <td>-1.387589</td>\n",
       "      <td>-0.242498</td>\n",
       "      <td>-0.092407</td>\n",
       "      <td>0.356412</td>\n",
       "      <td>...</td>\n",
       "      <td>0.335010</td>\n",
       "      <td>0.393545</td>\n",
       "      <td>-1.028003</td>\n",
       "      <td>0.263805</td>\n",
       "      <td>-0.007604</td>\n",
       "      <td>0.125887</td>\n",
       "      <td>0.059048</td>\n",
       "      <td>0.307163</td>\n",
       "      <td>-0.139502</td>\n",
       "      <td>-0.007199</td>\n",
       "    </tr>\n",
       "    <tr>\n",
       "      <th>4</th>\n",
       "      <td>0.071452</td>\n",
       "      <td>-0.359428</td>\n",
       "      <td>0.874091</td>\n",
       "      <td>0.542866</td>\n",
       "      <td>0.020651</td>\n",
       "      <td>-0.611763</td>\n",
       "      <td>-0.547304</td>\n",
       "      <td>-0.991793</td>\n",
       "      <td>0.028955</td>\n",
       "      <td>0.321509</td>\n",
       "      <td>...</td>\n",
       "      <td>-0.274564</td>\n",
       "      <td>-0.422489</td>\n",
       "      <td>-0.036282</td>\n",
       "      <td>-0.040933</td>\n",
       "      <td>0.137831</td>\n",
       "      <td>0.160605</td>\n",
       "      <td>-0.080035</td>\n",
       "      <td>-0.028271</td>\n",
       "      <td>-0.125595</td>\n",
       "      <td>-0.005530</td>\n",
       "    </tr>\n",
       "    <tr>\n",
       "      <th>...</th>\n",
       "      <td>...</td>\n",
       "      <td>...</td>\n",
       "      <td>...</td>\n",
       "      <td>...</td>\n",
       "      <td>...</td>\n",
       "      <td>...</td>\n",
       "      <td>...</td>\n",
       "      <td>...</td>\n",
       "      <td>...</td>\n",
       "      <td>...</td>\n",
       "      <td>...</td>\n",
       "      <td>...</td>\n",
       "      <td>...</td>\n",
       "      <td>...</td>\n",
       "      <td>...</td>\n",
       "      <td>...</td>\n",
       "      <td>...</td>\n",
       "      <td>...</td>\n",
       "      <td>...</td>\n",
       "      <td>...</td>\n",
       "      <td>...</td>\n",
       "    </tr>\n",
       "    <tr>\n",
       "      <th>395</th>\n",
       "      <td>-2.242069</td>\n",
       "      <td>0.181201</td>\n",
       "      <td>-1.379393</td>\n",
       "      <td>0.797037</td>\n",
       "      <td>-0.827172</td>\n",
       "      <td>-0.533943</td>\n",
       "      <td>-0.424055</td>\n",
       "      <td>-0.304466</td>\n",
       "      <td>-1.120980</td>\n",
       "      <td>-0.449347</td>\n",
       "      <td>...</td>\n",
       "      <td>-0.074232</td>\n",
       "      <td>-0.116041</td>\n",
       "      <td>-0.087534</td>\n",
       "      <td>0.095044</td>\n",
       "      <td>-0.005164</td>\n",
       "      <td>0.009935</td>\n",
       "      <td>0.044429</td>\n",
       "      <td>0.051234</td>\n",
       "      <td>0.025189</td>\n",
       "      <td>-0.002160</td>\n",
       "    </tr>\n",
       "    <tr>\n",
       "      <th>396</th>\n",
       "      <td>-3.496129</td>\n",
       "      <td>0.029575</td>\n",
       "      <td>0.691564</td>\n",
       "      <td>-0.362938</td>\n",
       "      <td>0.521949</td>\n",
       "      <td>0.187796</td>\n",
       "      <td>-0.796149</td>\n",
       "      <td>1.317505</td>\n",
       "      <td>-0.079559</td>\n",
       "      <td>0.203910</td>\n",
       "      <td>...</td>\n",
       "      <td>0.179194</td>\n",
       "      <td>0.211174</td>\n",
       "      <td>-0.041678</td>\n",
       "      <td>-0.052370</td>\n",
       "      <td>-0.035910</td>\n",
       "      <td>-0.034401</td>\n",
       "      <td>0.092371</td>\n",
       "      <td>-0.042284</td>\n",
       "      <td>-0.012312</td>\n",
       "      <td>0.001907</td>\n",
       "    </tr>\n",
       "    <tr>\n",
       "      <th>397</th>\n",
       "      <td>-2.798794</td>\n",
       "      <td>-0.545894</td>\n",
       "      <td>0.745903</td>\n",
       "      <td>1.233780</td>\n",
       "      <td>0.947824</td>\n",
       "      <td>-0.885760</td>\n",
       "      <td>0.805909</td>\n",
       "      <td>0.724360</td>\n",
       "      <td>0.632653</td>\n",
       "      <td>0.022622</td>\n",
       "      <td>...</td>\n",
       "      <td>-0.028919</td>\n",
       "      <td>0.202541</td>\n",
       "      <td>-0.066425</td>\n",
       "      <td>-0.038107</td>\n",
       "      <td>0.077221</td>\n",
       "      <td>-0.045816</td>\n",
       "      <td>0.050430</td>\n",
       "      <td>0.020103</td>\n",
       "      <td>-0.003991</td>\n",
       "      <td>-0.002292</td>\n",
       "    </tr>\n",
       "    <tr>\n",
       "      <th>398</th>\n",
       "      <td>-2.569976</td>\n",
       "      <td>-0.669421</td>\n",
       "      <td>0.713458</td>\n",
       "      <td>1.331038</td>\n",
       "      <td>-0.029514</td>\n",
       "      <td>0.934238</td>\n",
       "      <td>1.268909</td>\n",
       "      <td>1.324368</td>\n",
       "      <td>1.022370</td>\n",
       "      <td>-0.386898</td>\n",
       "      <td>...</td>\n",
       "      <td>0.370273</td>\n",
       "      <td>0.094949</td>\n",
       "      <td>0.018482</td>\n",
       "      <td>-0.063501</td>\n",
       "      <td>0.127841</td>\n",
       "      <td>-0.137819</td>\n",
       "      <td>-0.050357</td>\n",
       "      <td>0.002857</td>\n",
       "      <td>-0.004605</td>\n",
       "      <td>0.001513</td>\n",
       "    </tr>\n",
       "    <tr>\n",
       "      <th>399</th>\n",
       "      <td>-3.009293</td>\n",
       "      <td>0.699141</td>\n",
       "      <td>-0.246630</td>\n",
       "      <td>-0.205344</td>\n",
       "      <td>1.210893</td>\n",
       "      <td>-0.097734</td>\n",
       "      <td>-1.351291</td>\n",
       "      <td>0.583775</td>\n",
       "      <td>-0.082566</td>\n",
       "      <td>-0.542915</td>\n",
       "      <td>...</td>\n",
       "      <td>0.290459</td>\n",
       "      <td>0.019209</td>\n",
       "      <td>-0.046224</td>\n",
       "      <td>0.090149</td>\n",
       "      <td>0.051989</td>\n",
       "      <td>0.046544</td>\n",
       "      <td>0.095099</td>\n",
       "      <td>-0.016206</td>\n",
       "      <td>-0.018415</td>\n",
       "      <td>0.003315</td>\n",
       "    </tr>\n",
       "  </tbody>\n",
       "</table>\n",
       "<p>400 rows × 24 columns</p>\n",
       "</div>"
      ],
      "text/plain": [
       "           0         1         2         3         4         5         6   \\\n",
       "0   -1.125512  0.219512  0.087501  0.432308  0.199319 -0.296985 -0.628805   \n",
       "1   -0.211117 -0.231368  3.833405  2.337527 -0.298878  0.650752  0.681665   \n",
       "2    2.266950  2.412920 -0.573040  0.812566  0.700742  0.114930  0.594379   \n",
       "3    2.936236 -0.677029  3.487958 -0.323162  1.835178  0.971171 -1.387589   \n",
       "4    0.071452 -0.359428  0.874091  0.542866  0.020651 -0.611763 -0.547304   \n",
       "..        ...       ...       ...       ...       ...       ...       ...   \n",
       "395 -2.242069  0.181201 -1.379393  0.797037 -0.827172 -0.533943 -0.424055   \n",
       "396 -3.496129  0.029575  0.691564 -0.362938  0.521949  0.187796 -0.796149   \n",
       "397 -2.798794 -0.545894  0.745903  1.233780  0.947824 -0.885760  0.805909   \n",
       "398 -2.569976 -0.669421  0.713458  1.331038 -0.029514  0.934238  1.268909   \n",
       "399 -3.009293  0.699141 -0.246630 -0.205344  1.210893 -0.097734 -1.351291   \n",
       "\n",
       "           7         8         9   ...        14        15        16  \\\n",
       "0    0.100868  0.555595 -0.179754  ... -0.725845  0.585694 -0.072362   \n",
       "1   -0.808775 -0.608468 -0.221466  ... -0.443049 -0.419959 -0.192604   \n",
       "2   -0.307882 -0.676141  0.123624  ...  0.228477 -0.907974 -0.683296   \n",
       "3   -0.242498 -0.092407  0.356412  ...  0.335010  0.393545 -1.028003   \n",
       "4   -0.991793  0.028955  0.321509  ... -0.274564 -0.422489 -0.036282   \n",
       "..        ...       ...       ...  ...       ...       ...       ...   \n",
       "395 -0.304466 -1.120980 -0.449347  ... -0.074232 -0.116041 -0.087534   \n",
       "396  1.317505 -0.079559  0.203910  ...  0.179194  0.211174 -0.041678   \n",
       "397  0.724360  0.632653  0.022622  ... -0.028919  0.202541 -0.066425   \n",
       "398  1.324368  1.022370 -0.386898  ...  0.370273  0.094949  0.018482   \n",
       "399  0.583775 -0.082566 -0.542915  ...  0.290459  0.019209 -0.046224   \n",
       "\n",
       "           17        18        19        20        21        22        23  \n",
       "0   -0.209815 -0.212041 -0.031002 -0.023659 -0.073836  0.060574 -0.000499  \n",
       "1   -0.211853  0.159069  0.056653 -0.038995 -0.054551 -0.165200  0.004422  \n",
       "2   -0.508890 -0.490741  0.249481  0.279629 -0.172667 -0.086077 -0.003876  \n",
       "3    0.263805 -0.007604  0.125887  0.059048  0.307163 -0.139502 -0.007199  \n",
       "4   -0.040933  0.137831  0.160605 -0.080035 -0.028271 -0.125595 -0.005530  \n",
       "..        ...       ...       ...       ...       ...       ...       ...  \n",
       "395  0.095044 -0.005164  0.009935  0.044429  0.051234  0.025189 -0.002160  \n",
       "396 -0.052370 -0.035910 -0.034401  0.092371 -0.042284 -0.012312  0.001907  \n",
       "397 -0.038107  0.077221 -0.045816  0.050430  0.020103 -0.003991 -0.002292  \n",
       "398 -0.063501  0.127841 -0.137819 -0.050357  0.002857 -0.004605  0.001513  \n",
       "399  0.090149  0.051989  0.046544  0.095099 -0.016206 -0.018415  0.003315  \n",
       "\n",
       "[400 rows x 24 columns]"
      ]
     },
     "execution_count": 545,
     "metadata": {},
     "output_type": "execute_result"
    }
   ],
   "source": [
    "pc_scores = pd.DataFrame(pca_X.fit_transform(X),\n",
    "index=X.index)\n",
    "pc_scores"
   ]
  },
  {
   "cell_type": "code",
   "execution_count": 546,
   "metadata": {},
   "outputs": [
    {
     "data": {
      "text/plain": [
       "0     5.551419\n",
       "1     1.580995\n",
       "2     1.295468\n",
       "3     1.036802\n",
       "4     0.932681\n",
       "5     0.866050\n",
       "6     0.758986\n",
       "7     0.673745\n",
       "8     0.551874\n",
       "9     0.418770\n",
       "10    0.338726\n",
       "11    0.176468\n",
       "12    0.166425\n",
       "13    0.149587\n",
       "14    0.137925\n",
       "15    0.102899\n",
       "16    0.100356\n",
       "17    0.091155\n",
       "18    0.078170\n",
       "19    0.073926\n",
       "20    0.056426\n",
       "21    0.042267\n",
       "22    0.039247\n",
       "23    0.000017\n",
       "dtype: float64"
      ]
     },
     "execution_count": 546,
     "metadata": {},
     "output_type": "execute_result"
    }
   ],
   "source": [
    "pc_scores.var()"
   ]
  },
  {
   "cell_type": "markdown",
   "metadata": {},
   "source": [
    "use first 4 for their eigenvalue > 1"
   ]
  },
  {
   "cell_type": "code",
   "execution_count": 547,
   "metadata": {},
   "outputs": [
    {
     "data": {
      "text/plain": [
       "array([2.35614503, 1.25737623, 1.13818627, 1.01823498, 0.96575417,\n",
       "       0.93061788, 0.87119825, 0.82081999, 0.74288198, 0.64712479,\n",
       "       0.58200134, 0.42008121, 0.40795162, 0.38676487, 0.37138212,\n",
       "       0.32077893, 0.31679067, 0.30191877, 0.27958979, 0.27189428,\n",
       "       0.23754168, 0.20559048, 0.19810969, 0.00409626])"
      ]
     },
     "execution_count": 547,
     "metadata": {},
     "output_type": "execute_result"
    }
   ],
   "source": [
    "np.sqrt(pca_X.explained_variance_)"
   ]
  },
  {
   "cell_type": "code",
   "execution_count": 548,
   "metadata": {},
   "outputs": [
    {
     "data": {
      "text/plain": [
       "array([5.55141940e+00, 1.58099497e+00, 1.29546799e+00, 1.03680247e+00,\n",
       "       9.32681119e-01, 8.66049631e-01, 7.58986387e-01, 6.73745458e-01,\n",
       "       5.51873642e-01, 4.18770488e-01, 3.38725561e-01, 1.76468223e-01,\n",
       "       1.66424521e-01, 1.49587068e-01, 1.37924679e-01, 1.02899123e-01,\n",
       "       1.00356326e-01, 9.11549453e-02, 7.81704515e-02, 7.39264980e-02,\n",
       "       5.64260486e-02, 4.22674443e-02, 3.92474492e-02, 1.67793288e-05])"
      ]
     },
     "execution_count": 548,
     "metadata": {},
     "output_type": "execute_result"
    }
   ],
   "source": [
    "pca_X.explained_variance_"
   ]
  },
  {
   "cell_type": "code",
   "execution_count": 549,
   "metadata": {},
   "outputs": [
    {
     "data": {
      "text/plain": [
       "array([3.64735766e-01, 1.03873509e-01, 8.51140001e-02, 6.81193250e-02,\n",
       "       6.12784116e-02, 5.69006327e-02, 4.98664326e-02, 4.42659883e-02,\n",
       "       3.62588450e-02, 2.75137877e-02, 2.22547277e-02, 1.15942011e-02,\n",
       "       1.09343162e-02, 9.82807280e-03, 9.06183807e-03, 6.76061164e-03,\n",
       "       6.59354639e-03, 5.98900325e-03, 5.13590444e-03, 4.85707096e-03,\n",
       "       3.70726774e-03, 2.77702828e-03, 2.57861052e-03, 1.10242461e-06])"
      ]
     },
     "execution_count": 549,
     "metadata": {},
     "output_type": "execute_result"
    }
   ],
   "source": [
    "pca_X.explained_variance_ratio_"
   ]
  },
  {
   "cell_type": "code",
   "execution_count": 550,
   "metadata": {},
   "outputs": [
    {
     "data": {
      "image/png": "[encoded data removed]",
      "text/plain": [
       "<Figure size 700x500 with 1 Axes>"
      ]
     },
     "metadata": {},
     "output_type": "display_data"
    }
   ],
   "source": [
    "plt.figure(figsize=(7,5))\n",
    "\n",
    "plt.plot(pca_X.explained_variance_ratio_, '-o', label='Individual component')\n",
    "plt.plot( np.cumsum(pca_X.explained_variance_ratio_), '-s', label='Cumulative')\n",
    "\n",
    "plt.ylabel('Proportion of Variance Explained')\n",
    "plt.xlabel('Principal Component')\n",
    "plt.xlim(0.75,4.25)\n",
    "plt.ylim(0,1.05)\n",
    "plt.xticks([0,1,2,3,4,5,6,7,8,9,10])\n",
    "plt.legend(loc=2);"
   ]
  },
  {
   "cell_type": "code",
   "execution_count": 551,
   "metadata": {},
   "outputs": [
    {
     "data": {
      "text/html": [
       "<div>\n",
       "<style scoped>\n",
       "    .dataframe tbody tr th:only-of-type {\n",
       "        vertical-align: middle;\n",
       "    }\n",
       "\n",
       "    .dataframe tbody tr th {\n",
       "        vertical-align: top;\n",
       "    }\n",
       "\n",
       "    .dataframe thead th {\n",
       "        text-align: right;\n",
       "    }\n",
       "</style>\n",
       "<table border=\"1\" class=\"dataframe\">\n",
       "  <thead>\n",
       "    <tr style=\"text-align: right;\">\n",
       "      <th></th>\n",
       "      <th>0</th>\n",
       "      <th>1</th>\n",
       "      <th>2</th>\n",
       "      <th>3</th>\n",
       "    </tr>\n",
       "  </thead>\n",
       "  <tbody>\n",
       "    <tr>\n",
       "      <th>age</th>\n",
       "      <td>0.145662</td>\n",
       "      <td>0.167313</td>\n",
       "      <td>-0.466541</td>\n",
       "      <td>-0.294899</td>\n",
       "    </tr>\n",
       "    <tr>\n",
       "      <th>bp</th>\n",
       "      <td>0.155942</td>\n",
       "      <td>0.008571</td>\n",
       "      <td>-0.286551</td>\n",
       "      <td>0.075144</td>\n",
       "    </tr>\n",
       "    <tr>\n",
       "      <th>sg</th>\n",
       "      <td>-0.001319</td>\n",
       "      <td>-0.000639</td>\n",
       "      <td>-0.000750</td>\n",
       "      <td>0.000336</td>\n",
       "    </tr>\n",
       "    <tr>\n",
       "      <th>al</th>\n",
       "      <td>0.388382</td>\n",
       "      <td>0.198109</td>\n",
       "      <td>0.607745</td>\n",
       "      <td>0.370144</td>\n",
       "    </tr>\n",
       "    <tr>\n",
       "      <th>su</th>\n",
       "      <td>0.167564</td>\n",
       "      <td>0.617158</td>\n",
       "      <td>-0.145244</td>\n",
       "      <td>0.182257</td>\n",
       "    </tr>\n",
       "    <tr>\n",
       "      <th>rbc</th>\n",
       "      <td>-0.048813</td>\n",
       "      <td>0.001846</td>\n",
       "      <td>-0.052966</td>\n",
       "      <td>-0.043196</td>\n",
       "    </tr>\n",
       "    <tr>\n",
       "      <th>pc</th>\n",
       "      <td>-0.089040</td>\n",
       "      <td>-0.020106</td>\n",
       "      <td>-0.082770</td>\n",
       "      <td>-0.054593</td>\n",
       "    </tr>\n",
       "    <tr>\n",
       "      <th>pcc</th>\n",
       "      <td>0.049617</td>\n",
       "      <td>0.028808</td>\n",
       "      <td>0.046151</td>\n",
       "      <td>0.011228</td>\n",
       "    </tr>\n",
       "    <tr>\n",
       "      <th>ba</th>\n",
       "      <td>0.028943</td>\n",
       "      <td>0.010095</td>\n",
       "      <td>0.035156</td>\n",
       "      <td>0.023526</td>\n",
       "    </tr>\n",
       "    <tr>\n",
       "      <th>bgr</th>\n",
       "      <td>0.216315</td>\n",
       "      <td>0.488383</td>\n",
       "      <td>-0.184521</td>\n",
       "      <td>0.080912</td>\n",
       "    </tr>\n",
       "    <tr>\n",
       "      <th>bu</th>\n",
       "      <td>0.315131</td>\n",
       "      <td>-0.249802</td>\n",
       "      <td>-0.151676</td>\n",
       "      <td>-0.046206</td>\n",
       "    </tr>\n",
       "    <tr>\n",
       "      <th>sc</th>\n",
       "      <td>0.338935</td>\n",
       "      <td>-0.225881</td>\n",
       "      <td>-0.135707</td>\n",
       "      <td>-0.048878</td>\n",
       "    </tr>\n",
       "    <tr>\n",
       "      <th>sod</th>\n",
       "      <td>-0.258992</td>\n",
       "      <td>0.103686</td>\n",
       "      <td>-0.157008</td>\n",
       "      <td>0.001698</td>\n",
       "    </tr>\n",
       "    <tr>\n",
       "      <th>pot</th>\n",
       "      <td>0.083688</td>\n",
       "      <td>-0.131429</td>\n",
       "      <td>-0.385099</td>\n",
       "      <td>0.569589</td>\n",
       "    </tr>\n",
       "    <tr>\n",
       "      <th>hemo</th>\n",
       "      <td>-0.359685</td>\n",
       "      <td>0.183670</td>\n",
       "      <td>-0.017890</td>\n",
       "      <td>0.107631</td>\n",
       "    </tr>\n",
       "    <tr>\n",
       "      <th>pcv</th>\n",
       "      <td>-0.360435</td>\n",
       "      <td>0.154825</td>\n",
       "      <td>0.002166</td>\n",
       "      <td>0.103384</td>\n",
       "    </tr>\n",
       "    <tr>\n",
       "      <th>wbcc</th>\n",
       "      <td>0.082023</td>\n",
       "      <td>0.297032</td>\n",
       "      <td>0.170099</td>\n",
       "      <td>-0.589718</td>\n",
       "    </tr>\n",
       "    <tr>\n",
       "      <th>rbcc</th>\n",
       "      <td>-0.324705</td>\n",
       "      <td>0.097825</td>\n",
       "      <td>-0.032148</td>\n",
       "      <td>0.149417</td>\n",
       "    </tr>\n",
       "    <tr>\n",
       "      <th>htn</th>\n",
       "      <td>0.144545</td>\n",
       "      <td>0.011997</td>\n",
       "      <td>-0.062965</td>\n",
       "      <td>-0.043490</td>\n",
       "    </tr>\n",
       "    <tr>\n",
       "      <th>dm</th>\n",
       "      <td>0.123673</td>\n",
       "      <td>0.096330</td>\n",
       "      <td>-0.096463</td>\n",
       "      <td>-0.023248</td>\n",
       "    </tr>\n",
       "    <tr>\n",
       "      <th>cad</th>\n",
       "      <td>0.043107</td>\n",
       "      <td>0.014087</td>\n",
       "      <td>-0.029606</td>\n",
       "      <td>0.002750</td>\n",
       "    </tr>\n",
       "    <tr>\n",
       "      <th>appet</th>\n",
       "      <td>-0.077751</td>\n",
       "      <td>0.012639</td>\n",
       "      <td>-0.014604</td>\n",
       "      <td>0.032247</td>\n",
       "    </tr>\n",
       "    <tr>\n",
       "      <th>pe</th>\n",
       "      <td>0.076156</td>\n",
       "      <td>-0.008803</td>\n",
       "      <td>0.060287</td>\n",
       "      <td>0.008395</td>\n",
       "    </tr>\n",
       "    <tr>\n",
       "      <th>ane</th>\n",
       "      <td>0.074415</td>\n",
       "      <td>-0.071647</td>\n",
       "      <td>-0.006885</td>\n",
       "      <td>-0.014720</td>\n",
       "    </tr>\n",
       "  </tbody>\n",
       "</table>\n",
       "</div>"
      ],
      "text/plain": [
       "              0         1         2         3\n",
       "age    0.145662  0.167313 -0.466541 -0.294899\n",
       "bp     0.155942  0.008571 -0.286551  0.075144\n",
       "sg    -0.001319 -0.000639 -0.000750  0.000336\n",
       "al     0.388382  0.198109  0.607745  0.370144\n",
       "su     0.167564  0.617158 -0.145244  0.182257\n",
       "rbc   -0.048813  0.001846 -0.052966 -0.043196\n",
       "pc    -0.089040 -0.020106 -0.082770 -0.054593\n",
       "pcc    0.049617  0.028808  0.046151  0.011228\n",
       "ba     0.028943  0.010095  0.035156  0.023526\n",
       "bgr    0.216315  0.488383 -0.184521  0.080912\n",
       "bu     0.315131 -0.249802 -0.151676 -0.046206\n",
       "sc     0.338935 -0.225881 -0.135707 -0.048878\n",
       "sod   -0.258992  0.103686 -0.157008  0.001698\n",
       "pot    0.083688 -0.131429 -0.385099  0.569589\n",
       "hemo  -0.359685  0.183670 -0.017890  0.107631\n",
       "pcv   -0.360435  0.154825  0.002166  0.103384\n",
       "wbcc   0.082023  0.297032  0.170099 -0.589718\n",
       "rbcc  -0.324705  0.097825 -0.032148  0.149417\n",
       "htn    0.144545  0.011997 -0.062965 -0.043490\n",
       "dm     0.123673  0.096330 -0.096463 -0.023248\n",
       "cad    0.043107  0.014087 -0.029606  0.002750\n",
       "appet -0.077751  0.012639 -0.014604  0.032247\n",
       "pe     0.076156 -0.008803  0.060287  0.008395\n",
       "ane    0.074415 -0.071647 -0.006885 -0.014720"
      ]
     },
     "execution_count": 551,
     "metadata": {},
     "output_type": "execute_result"
    }
   ],
   "source": [
    "pca_X = PCA(n_components=4)\n",
    "pca_loadings = pd.DataFrame(pca_X.fit(X).components_.T, \n",
    "                            index=X.columns, \n",
    "                           )\n",
    "pca_loadings"
   ]
  },
  {
   "cell_type": "code",
   "execution_count": 552,
   "metadata": {},
   "outputs": [
    {
     "data": {
      "text/plain": [
       "array([0.36473577, 0.10387351, 0.085114  , 0.06811933])"
      ]
     },
     "execution_count": 552,
     "metadata": {},
     "output_type": "execute_result"
    }
   ],
   "source": [
    "# To determine the proportion of the total variance in the original dataset\n",
    "# We can do explained_variance_ratio_\n",
    "pca_X.explained_variance_ratio_"
   ]
  },
  {
   "cell_type": "code",
   "execution_count": 553,
   "metadata": {},
   "outputs": [
    {
     "name": "stdout",
     "output_type": "stream",
     "text": [
      "0.6218426004821186\n"
     ]
    }
   ],
   "source": [
    "print(pca_X.explained_variance_ratio_.sum())"
   ]
  },
  {
   "cell_type": "markdown",
   "metadata": {},
   "source": [
    "### **8. Data Splitting**"
   ]
  },
  {
   "cell_type": "code",
   "execution_count": 554,
   "metadata": {},
   "outputs": [],
   "source": [
    "from sklearn.model_selection import train_test_split"
   ]
  },
  {
   "cell_type": "code",
   "execution_count": 555,
   "metadata": {},
   "outputs": [
    {
     "data": {
      "text/html": [
       "<div>\n",
       "<style scoped>\n",
       "    .dataframe tbody tr th:only-of-type {\n",
       "        vertical-align: middle;\n",
       "    }\n",
       "\n",
       "    .dataframe tbody tr th {\n",
       "        vertical-align: top;\n",
       "    }\n",
       "\n",
       "    .dataframe thead th {\n",
       "        text-align: right;\n",
       "    }\n",
       "</style>\n",
       "<table border=\"1\" class=\"dataframe\">\n",
       "  <thead>\n",
       "    <tr style=\"text-align: right;\">\n",
       "      <th></th>\n",
       "      <th>PC1</th>\n",
       "      <th>PC2</th>\n",
       "      <th>PC3</th>\n",
       "      <th>PC4</th>\n",
       "    </tr>\n",
       "  </thead>\n",
       "  <tbody>\n",
       "    <tr>\n",
       "      <th>0</th>\n",
       "      <td>-1.125512</td>\n",
       "      <td>0.219512</td>\n",
       "      <td>0.087501</td>\n",
       "      <td>0.432308</td>\n",
       "    </tr>\n",
       "    <tr>\n",
       "      <th>1</th>\n",
       "      <td>-0.211117</td>\n",
       "      <td>-0.231368</td>\n",
       "      <td>3.833405</td>\n",
       "      <td>2.337527</td>\n",
       "    </tr>\n",
       "    <tr>\n",
       "      <th>2</th>\n",
       "      <td>2.266950</td>\n",
       "      <td>2.412920</td>\n",
       "      <td>-0.573040</td>\n",
       "      <td>0.812566</td>\n",
       "    </tr>\n",
       "  </tbody>\n",
       "</table>\n",
       "</div>"
      ],
      "text/plain": [
       "        PC1       PC2       PC3       PC4\n",
       "0 -1.125512  0.219512  0.087501  0.432308\n",
       "1 -0.211117 -0.231368  3.833405  2.337527\n",
       "2  2.266950  2.412920 -0.573040  0.812566"
      ]
     },
     "execution_count": 555,
     "metadata": {},
     "output_type": "execute_result"
    }
   ],
   "source": [
    "# Check the location of the first 4 in order to scale\n",
    "pc_scores = pd.DataFrame(pca_X.fit_transform(X), \n",
    "                         columns=['PC1', 'PC2', 'PC3', 'PC4'], \n",
    "                         index=X.index)\n",
    "pc_scores.head(3)"
   ]
  },
  {
   "cell_type": "code",
   "execution_count": 556,
   "metadata": {},
   "outputs": [],
   "source": [
    "X_train, X_test, y_train, y_test = train_test_split(\n",
    "    pc_scores, df['class'], test_size=0.3, random_state=1)"
   ]
  },
  {
   "cell_type": "markdown",
   "metadata": {},
   "source": [
    "### **9. Classifier Choices**"
   ]
  },
  {
   "cell_type": "markdown",
   "metadata": {},
   "source": [
    "### **10. Performance Metrics**"
   ]
  },
  {
   "cell_type": "code",
   "execution_count": 557,
   "metadata": {},
   "outputs": [],
   "source": [
    "from sklearn.linear_model import LogisticRegression"
   ]
  },
  {
   "cell_type": "code",
   "execution_count": 558,
   "metadata": {},
   "outputs": [],
   "source": [
    "def_log = LogisticRegression(max_iter = 500)"
   ]
  },
  {
   "cell_type": "markdown",
   "metadata": {},
   "source": [
    "Train the model on the training set and make predictions on the test set. "
   ]
  },
  {
   "cell_type": "code",
   "execution_count": 559,
   "metadata": {},
   "outputs": [
    {
     "data": {
      "text/html": [
       "<style>#sk-container-id-4 {color: black;background-color: white;}#sk-container-id-4 pre{padding: 0;}#sk-container-id-4 div.sk-toggleable {background-color: white;}#sk-container-id-4 label.sk-toggleable__label {cursor: pointer;display: block;width: 100%;margin-bottom: 0;padding: 0.3em;box-sizing: border-box;text-align: center;}#sk-container-id-4 label.sk-toggleable__label-arrow:before {content: \"▸\";float: left;margin-right: 0.25em;color: #696969;}#sk-container-id-4 label.sk-toggleable__label-arrow:hover:before {color: black;}#sk-container-id-4 div.sk-estimator:hover label.sk-toggleable__label-arrow:before {color: black;}#sk-container-id-4 div.sk-toggleable__content {max-height: 0;max-width: 0;overflow: hidden;text-align: left;background-color: #f0f8ff;}#sk-container-id-4 div.sk-toggleable__content pre {margin: 0.2em;color: black;border-radius: 0.25em;background-color: #f0f8ff;}#sk-container-id-4 input.sk-toggleable__control:checked~div.sk-toggleable__content {max-height: 200px;max-width: 100%;overflow: auto;}#sk-container-id-4 input.sk-toggleable__control:checked~label.sk-toggleable__label-arrow:before {content: \"▾\";}#sk-container-id-4 div.sk-estimator input.sk-toggleable__control:checked~label.sk-toggleable__label {background-color: #d4ebff;}#sk-container-id-4 div.sk-label input.sk-toggleable__control:checked~label.sk-toggleable__label {background-color: #d4ebff;}#sk-container-id-4 input.sk-hidden--visually {border: 0;clip: rect(1px 1px 1px 1px);clip: rect(1px, 1px, 1px, 1px);height: 1px;margin: -1px;overflow: hidden;padding: 0;position: absolute;width: 1px;}#sk-container-id-4 div.sk-estimator {font-family: monospace;background-color: #f0f8ff;border: 1px dotted black;border-radius: 0.25em;box-sizing: border-box;margin-bottom: 0.5em;}#sk-container-id-4 div.sk-estimator:hover {background-color: #d4ebff;}#sk-container-id-4 div.sk-parallel-item::after {content: \"\";width: 100%;border-bottom: 1px solid gray;flex-grow: 1;}#sk-container-id-4 div.sk-label:hover label.sk-toggleable__label {background-color: #d4ebff;}#sk-container-id-4 div.sk-serial::before {content: \"\";position: absolute;border-left: 1px solid gray;box-sizing: border-box;top: 0;bottom: 0;left: 50%;z-index: 0;}#sk-container-id-4 div.sk-serial {display: flex;flex-direction: column;align-items: center;background-color: white;padding-right: 0.2em;padding-left: 0.2em;position: relative;}#sk-container-id-4 div.sk-item {position: relative;z-index: 1;}#sk-container-id-4 div.sk-parallel {display: flex;align-items: stretch;justify-content: center;background-color: white;position: relative;}#sk-container-id-4 div.sk-item::before, #sk-container-id-4 div.sk-parallel-item::before {content: \"\";position: absolute;border-left: 1px solid gray;box-sizing: border-box;top: 0;bottom: 0;left: 50%;z-index: -1;}#sk-container-id-4 div.sk-parallel-item {display: flex;flex-direction: column;z-index: 1;position: relative;background-color: white;}#sk-container-id-4 div.sk-parallel-item:first-child::after {align-self: flex-end;width: 50%;}#sk-container-id-4 div.sk-parallel-item:last-child::after {align-self: flex-start;width: 50%;}#sk-container-id-4 div.sk-parallel-item:only-child::after {width: 0;}#sk-container-id-4 div.sk-dashed-wrapped {border: 1px dashed gray;margin: 0 0.4em 0.5em 0.4em;box-sizing: border-box;padding-bottom: 0.4em;background-color: white;}#sk-container-id-4 div.sk-label label {font-family: monospace;font-weight: bold;display: inline-block;line-height: 1.2em;}#sk-container-id-4 div.sk-label-container {text-align: center;}#sk-container-id-4 div.sk-container {/* jupyter's `normalize.less` sets `[hidden] { display: none; }` but bootstrap.min.css set `[hidden] { display: none !important; }` so we also need the `!important` here to be able to override the default hidden behavior on the sphinx rendered scikit-learn.org. See: https://github.com/scikit-learn/scikit-learn/issues/21755 */display: inline-block !important;position: relative;}#sk-container-id-4 div.sk-text-repr-fallback {display: none;}</style><div id=\"sk-container-id-4\" class=\"sk-top-container\"><div class=\"sk-text-repr-fallback\"><pre>LogisticRegression(max_iter=500)</pre><b>In a Jupyter environment, please rerun this cell to show the HTML representation or trust the notebook. <br />On GitHub, the HTML representation is unable to render, please try loading this page with nbviewer.org.</b></div><div class=\"sk-container\" hidden><div class=\"sk-item\"><div class=\"sk-estimator sk-toggleable\"><input class=\"sk-toggleable__control sk-hidden--visually\" id=\"sk-estimator-id-4\" type=\"checkbox\" checked><label for=\"sk-estimator-id-4\" class=\"sk-toggleable__label sk-toggleable__label-arrow\">LogisticRegression</label><div class=\"sk-toggleable__content\"><pre>LogisticRegression(max_iter=500)</pre></div></div></div></div></div>"
      ],
      "text/plain": [
       "LogisticRegression(max_iter=500)"
      ]
     },
     "execution_count": 559,
     "metadata": {},
     "output_type": "execute_result"
    }
   ],
   "source": [
    "def_log.fit(X_train, y_train)"
   ]
  },
  {
   "cell_type": "code",
   "execution_count": 560,
   "metadata": {},
   "outputs": [
    {
     "data": {
      "text/html": [
       "<div>\n",
       "<style scoped>\n",
       "    .dataframe tbody tr th:only-of-type {\n",
       "        vertical-align: middle;\n",
       "    }\n",
       "\n",
       "    .dataframe tbody tr th {\n",
       "        vertical-align: top;\n",
       "    }\n",
       "\n",
       "    .dataframe thead th {\n",
       "        text-align: right;\n",
       "    }\n",
       "</style>\n",
       "<table border=\"1\" class=\"dataframe\">\n",
       "  <thead>\n",
       "    <tr style=\"text-align: right;\">\n",
       "      <th></th>\n",
       "      <th>prob</th>\n",
       "      <th>y_test</th>\n",
       "    </tr>\n",
       "  </thead>\n",
       "  <tbody>\n",
       "    <tr>\n",
       "      <th>398</th>\n",
       "      <td>0.017536</td>\n",
       "      <td>0.0</td>\n",
       "    </tr>\n",
       "    <tr>\n",
       "      <th>125</th>\n",
       "      <td>0.999047</td>\n",
       "      <td>1.0</td>\n",
       "    </tr>\n",
       "    <tr>\n",
       "      <th>328</th>\n",
       "      <td>0.013826</td>\n",
       "      <td>0.0</td>\n",
       "    </tr>\n",
       "    <tr>\n",
       "      <th>339</th>\n",
       "      <td>0.046210</td>\n",
       "      <td>0.0</td>\n",
       "    </tr>\n",
       "    <tr>\n",
       "      <th>172</th>\n",
       "      <td>0.999998</td>\n",
       "      <td>1.0</td>\n",
       "    </tr>\n",
       "  </tbody>\n",
       "</table>\n",
       "</div>"
      ],
      "text/plain": [
       "         prob y_test\n",
       "398  0.017536    0.0\n",
       "125  0.999047    1.0\n",
       "328  0.013826    0.0\n",
       "339  0.046210    0.0\n",
       "172  0.999998    1.0"
      ]
     },
     "execution_count": 560,
     "metadata": {},
     "output_type": "execute_result"
    }
   ],
   "source": [
    "pred_prob = def_log.predict_proba(X_test)\n",
    "df_pro = pd.DataFrame(data = {'prob': pred_prob[:,1], 'y_test': y_test})\n",
    "df_pro.head(5)"
   ]
  },
  {
   "cell_type": "code",
   "execution_count": 561,
   "metadata": {},
   "outputs": [],
   "source": [
    "# Create a data frame with predicted probabilities (for default) and the class labels in the test set.\n",
    "df_logit = pd.DataFrame(\n",
    "    data = {'prob0': pred_prob[:,1], 'y_test': y_test}\n",
    "    )"
   ]
  },
  {
   "cell_type": "code",
   "execution_count": 562,
   "metadata": {},
   "outputs": [],
   "source": [
    "from sklearn.metrics import confusion_matrix, classification_report, roc_curve, roc_auc_score"
   ]
  },
  {
   "cell_type": "code",
   "execution_count": 563,
   "metadata": {},
   "outputs": [],
   "source": [
    "fpr, tpr, thresholds = roc_curve(df_logit.y_test, df_logit.prob0)"
   ]
  },
  {
   "cell_type": "code",
   "execution_count": 564,
   "metadata": {},
   "outputs": [
    {
     "data": {
      "text/plain": [
       "0.994"
      ]
     },
     "execution_count": 564,
     "metadata": {},
     "output_type": "execute_result"
    }
   ],
   "source": [
    "# AUC\n",
    "roc_auc_score(df_logit.y_test, df_logit.prob0)"
   ]
  },
  {
   "cell_type": "code",
   "execution_count": 565,
   "metadata": {},
   "outputs": [
    {
     "data": {
      "image/png": "[encoded data removed]",
      "text/plain": [
       "<Figure size 640x480 with 1 Axes>"
      ]
     },
     "metadata": {},
     "output_type": "display_data"
    }
   ],
   "source": [
    "# plot the roc curve for the model\n",
    "plt.plot(fpr, tpr, marker='.', label='Logistic')\n",
    "plt.xlabel('False Positive Rate (1- specificity)')\n",
    "plt.ylabel('True Positive Rate (Sensitivity)')\n",
    "\n",
    "plt.show()"
   ]
  },
  {
   "cell_type": "markdown",
   "metadata": {},
   "source": [
    "### ROC Analysis of Binary Classifier (Youden’s J statistic)"
   ]
  },
  {
   "cell_type": "code",
   "execution_count": 566,
   "metadata": {},
   "outputs": [
    {
     "data": {
      "text/plain": [
       "0.4509011283133208"
      ]
     },
     "execution_count": 566,
     "metadata": {},
     "output_type": "execute_result"
    }
   ],
   "source": [
    "j_statistic = tpr - fpr\n",
    "optimal_index = np.argmax(j_statistic)\n",
    "optimal_threshold = thresholds[optimal_index]\n",
    "optimal_threshold"
   ]
  },
  {
   "cell_type": "code",
   "execution_count": 567,
   "metadata": {},
   "outputs": [
    {
     "name": "stdout",
     "output_type": "stream",
     "text": [
      "[0.97142857]\n",
      "[1.]\n"
     ]
    }
   ],
   "source": [
    "ind = np.where(np.isclose(thresholds, optimal_threshold, atol=0.001))\n",
    "print(tpr[ind])\n",
    "print(1-fpr[ind])"
   ]
  },
  {
   "cell_type": "markdown",
   "metadata": {},
   "source": [
    "### ROC Analysis of Binary Classifier (Kolmogorov–Smirnov statistic)"
   ]
  },
  {
   "cell_type": "code",
   "execution_count": 568,
   "metadata": {},
   "outputs": [
    {
     "data": {
      "text/plain": [
       "0.4509011283133208"
      ]
     },
     "execution_count": 568,
     "metadata": {},
     "output_type": "execute_result"
    }
   ],
   "source": [
    "ks_statistic = np.max(tpr - fpr)\n",
    "ks_threshold = thresholds[np.argmax(tpr - fpr)]\n",
    "ks_threshold"
   ]
  },
  {
   "cell_type": "code",
   "execution_count": 569,
   "metadata": {},
   "outputs": [
    {
     "name": "stdout",
     "output_type": "stream",
     "text": [
      "[0.97142857]\n",
      "[1.]\n"
     ]
    }
   ],
   "source": [
    "ind = np.where(np.isclose(thresholds, ks_threshold, atol=0.001))\n",
    "print(tpr[ind])\n",
    "print(1-fpr[ind])"
   ]
  },
  {
   "cell_type": "code",
   "execution_count": 570,
   "metadata": {},
   "outputs": [
    {
     "data": {
      "image/png": "[encoded data removed]",
      "text/plain": [
       "<Figure size 640x480 with 1 Axes>"
      ]
     },
     "metadata": {},
     "output_type": "display_data"
    }
   ],
   "source": [
    "plt.plot(thresholds, tpr, label='TPR (Sensitivity)', color='blue')\n",
    "plt.plot(thresholds, fpr, label='FPR', color='red')\n",
    "plt.plot(thresholds, tpr - fpr, label='TPR - FPR (KS Statistic)', color='green')\n",
    "plt.axvline(x=ks_threshold, color='grey', linestyle='--', label=f'Optimal Threshold = {ks_threshold:.2f}')\n",
    "plt.title('Kolmogorov-Smirnov plot for Model Evaluation')\n",
    "plt.xlabel('Thresholds')\n",
    "plt.ylabel('Rate')\n",
    "plt.legend()\n",
    "plt.xlim([0.0, 1.0])\n",
    "#plt.gca().invert_xaxis() \n",
    "plt.show()"
   ]
  },
  {
   "cell_type": "markdown",
   "metadata": {},
   "source": [
    "The area under the ROC curve (AUC) is around XXXXX.\\\n",
    "From the result of Youden’s J statistics and Kolmogorov-Smirnov statistics, the optimal probability cut-off point is at around 0.XXX. "
   ]
  },
  {
   "cell_type": "code",
   "execution_count": 573,
   "metadata": {},
   "outputs": [],
   "source": [
    "from patsy import dmatrices, dmatrix\n",
    "import statsmodels.api as sm\n",
    "from sklearn.linear_model import LinearRegression\n",
    "from sklearn.metrics import confusion_matrix, classification_report\n",
    "import statsmodels.api as sm\n",
    "from sklearn.metrics import roc_curve\n",
    "from sklearn.metrics import roc_auc_score"
   ]
  },
  {
   "cell_type": "markdown",
   "metadata": {},
   "source": [
    "choose optimal threshold = 0.45"
   ]
  },
  {
   "cell_type": "code",
   "execution_count": 575,
   "metadata": {},
   "outputs": [
    {
     "data": {
      "text/html": [
       "<div>\n",
       "<style scoped>\n",
       "    .dataframe tbody tr th:only-of-type {\n",
       "        vertical-align: middle;\n",
       "    }\n",
       "\n",
       "    .dataframe tbody tr th {\n",
       "        vertical-align: top;\n",
       "    }\n",
       "\n",
       "    .dataframe thead th {\n",
       "        text-align: right;\n",
       "    }\n",
       "</style>\n",
       "<table border=\"1\" class=\"dataframe\">\n",
       "  <thead>\n",
       "    <tr style=\"text-align: right;\">\n",
       "      <th></th>\n",
       "      <th>prob</th>\n",
       "      <th>y_test</th>\n",
       "      <th>y_test_pred</th>\n",
       "    </tr>\n",
       "  </thead>\n",
       "  <tbody>\n",
       "    <tr>\n",
       "      <th>398</th>\n",
       "      <td>0.017536</td>\n",
       "      <td>0.0</td>\n",
       "      <td>0</td>\n",
       "    </tr>\n",
       "    <tr>\n",
       "      <th>125</th>\n",
       "      <td>0.999047</td>\n",
       "      <td>1.0</td>\n",
       "      <td>1</td>\n",
       "    </tr>\n",
       "    <tr>\n",
       "      <th>328</th>\n",
       "      <td>0.013826</td>\n",
       "      <td>0.0</td>\n",
       "      <td>0</td>\n",
       "    </tr>\n",
       "    <tr>\n",
       "      <th>339</th>\n",
       "      <td>0.046210</td>\n",
       "      <td>0.0</td>\n",
       "      <td>0</td>\n",
       "    </tr>\n",
       "    <tr>\n",
       "      <th>172</th>\n",
       "      <td>0.999998</td>\n",
       "      <td>1.0</td>\n",
       "      <td>1</td>\n",
       "    </tr>\n",
       "  </tbody>\n",
       "</table>\n",
       "</div>"
      ],
      "text/plain": [
       "         prob y_test  y_test_pred\n",
       "398  0.017536    0.0            0\n",
       "125  0.999047    1.0            1\n",
       "328  0.013826    0.0            0\n",
       "339  0.046210    0.0            0\n",
       "172  0.999998    1.0            1"
      ]
     },
     "execution_count": 575,
     "metadata": {},
     "output_type": "execute_result"
    }
   ],
   "source": [
    "pred_prob = def_log.predict_proba(X_test)\n",
    "df = pd.DataFrame(data = {'prob': pred_prob[:,1], 'y_test': y_test})\n",
    "df['y_test_pred'] = df.prob.map(lambda x: 1 if x>0.45 else 0)\n",
    "df.head(5)"
   ]
  },
  {
   "cell_type": "code",
   "execution_count": 576,
   "metadata": {},
   "outputs": [
    {
     "name": "stdout",
     "output_type": "stream",
     "text": [
      "Confusion Matrix : \n",
      " [[50  0]\n",
      " [ 2 68]]\n",
      "Accuracy :  0.9833333333333333\n"
     ]
    }
   ],
   "source": [
    "cm = confusion_matrix(df.y_test, df.y_test_pred)\n",
    "print('Confusion Matrix : \\n', cm)\n",
    "\n",
    "total = sum(sum(cm))\n",
    "accuracy = (cm[0,0]+cm[1,1])/total\n",
    "print ('Accuracy : ', accuracy)"
   ]
  },
  {
   "cell_type": "code",
   "execution_count": 577,
   "metadata": {},
   "outputs": [
    {
     "name": "stdout",
     "output_type": "stream",
     "text": [
      "Sensitivity :  0.9714285714285714\n",
      "Specificity :  1.0\n"
     ]
    }
   ],
   "source": [
    "sensitivity = cm[1,1]/(cm[1,0]+cm[1,1])\n",
    "print('Sensitivity : ', sensitivity)\n",
    "\n",
    "specificity = cm[0,0]/(cm[0,0]+cm[0,1])\n",
    "print('Specificity : ', specificity )\n",
    "\n"
   ]
  },
  {
   "cell_type": "markdown",
   "metadata": {},
   "source": [
    "the significant variables in predicting"
   ]
  },
  {
   "cell_type": "code",
   "execution_count": null,
   "metadata": {},
   "outputs": [
    {
     "name": "stdout",
     "output_type": "stream",
     "text": [
      "Optimization terminated successfully.\n",
      "         Current function value: 0.273228\n",
      "         Iterations 8\n"
     ]
    }
   ],
   "source": [
    "model = sm.Logit(y_train, X_train).fit()"
   ]
  },
  {
   "cell_type": "code",
   "execution_count": null,
   "metadata": {},
   "outputs": [
    {
     "data": {
      "text/html": [
       "<table class=\"simpletable\">\n",
       "<caption>Logit Regression Results</caption>\n",
       "<tr>\n",
       "  <th>Dep. Variable:</th>         <td>class</td>      <th>  No. Observations:  </th>  <td>   280</td>  \n",
       "</tr>\n",
       "<tr>\n",
       "  <th>Model:</th>                 <td>Logit</td>      <th>  Df Residuals:      </th>  <td>   276</td>  \n",
       "</tr>\n",
       "<tr>\n",
       "  <th>Method:</th>                 <td>MLE</td>       <th>  Df Model:          </th>  <td>     3</td>  \n",
       "</tr>\n",
       "<tr>\n",
       "  <th>Date:</th>            <td>Wed, 10 Apr 2024</td> <th>  Pseudo R-squ.:     </th>  <td>0.5808</td>  \n",
       "</tr>\n",
       "<tr>\n",
       "  <th>Time:</th>                <td>20:37:04</td>     <th>  Log-Likelihood:    </th> <td> -76.504</td> \n",
       "</tr>\n",
       "<tr>\n",
       "  <th>converged:</th>             <td>True</td>       <th>  LL-Null:           </th> <td> -182.49</td> \n",
       "</tr>\n",
       "<tr>\n",
       "  <th>Covariance Type:</th>     <td>nonrobust</td>    <th>  LLR p-value:       </th> <td>1.089e-45</td>\n",
       "</tr>\n",
       "</table>\n",
       "<table class=\"simpletable\">\n",
       "<tr>\n",
       "   <td></td>      <th>coef</th>     <th>std err</th>      <th>z</th>      <th>P>|z|</th>  <th>[0.025</th>    <th>0.975]</th>  \n",
       "</tr>\n",
       "<tr>\n",
       "  <th>PC1</th> <td>    1.5948</td> <td>    0.191</td> <td>    8.347</td> <td> 0.000</td> <td>    1.220</td> <td>    1.969</td>\n",
       "</tr>\n",
       "<tr>\n",
       "  <th>PC2</th> <td>    0.2731</td> <td>    0.180</td> <td>    1.514</td> <td> 0.130</td> <td>   -0.080</td> <td>    0.627</td>\n",
       "</tr>\n",
       "<tr>\n",
       "  <th>PC3</th> <td>    0.3341</td> <td>    0.163</td> <td>    2.047</td> <td> 0.041</td> <td>    0.014</td> <td>    0.654</td>\n",
       "</tr>\n",
       "<tr>\n",
       "  <th>PC4</th> <td>   -0.2235</td> <td>    0.234</td> <td>   -0.954</td> <td> 0.340</td> <td>   -0.682</td> <td>    0.235</td>\n",
       "</tr>\n",
       "</table>"
      ],
      "text/latex": [
       "\\begin{center}\n",
       "\\begin{tabular}{lclc}\n",
       "\\toprule\n",
       "\\textbf{Dep. Variable:}   &      class       & \\textbf{  No. Observations:  } &      280    \\\\\n",
       "\\textbf{Model:}           &      Logit       & \\textbf{  Df Residuals:      } &      276    \\\\\n",
       "\\textbf{Method:}          &       MLE        & \\textbf{  Df Model:          } &        3    \\\\\n",
       "\\textbf{Date:}            & Wed, 10 Apr 2024 & \\textbf{  Pseudo R-squ.:     } &   0.5808    \\\\\n",
       "\\textbf{Time:}            &     20:37:04     & \\textbf{  Log-Likelihood:    } &   -76.504   \\\\\n",
       "\\textbf{converged:}       &       True       & \\textbf{  LL-Null:           } &   -182.49   \\\\\n",
       "\\textbf{Covariance Type:} &    nonrobust     & \\textbf{  LLR p-value:       } & 1.089e-45   \\\\\n",
       "\\bottomrule\n",
       "\\end{tabular}\n",
       "\\begin{tabular}{lcccccc}\n",
       "             & \\textbf{coef} & \\textbf{std err} & \\textbf{z} & \\textbf{P$> |$z$|$} & \\textbf{[0.025} & \\textbf{0.975]}  \\\\\n",
       "\\midrule\n",
       "\\textbf{PC1} &       1.5948  &        0.191     &     8.347  &         0.000        &        1.220    &        1.969     \\\\\n",
       "\\textbf{PC2} &       0.2731  &        0.180     &     1.514  &         0.130        &       -0.080    &        0.627     \\\\\n",
       "\\textbf{PC3} &       0.3341  &        0.163     &     2.047  &         0.041        &        0.014    &        0.654     \\\\\n",
       "\\textbf{PC4} &      -0.2235  &        0.234     &    -0.954  &         0.340        &       -0.682    &        0.235     \\\\\n",
       "\\bottomrule\n",
       "\\end{tabular}\n",
       "%\\caption{Logit Regression Results}\n",
       "\\end{center}"
      ],
      "text/plain": [
       "<class 'statsmodels.iolib.summary.Summary'>\n",
       "\"\"\"\n",
       "                           Logit Regression Results                           \n",
       "==============================================================================\n",
       "Dep. Variable:                  class   No. Observations:                  280\n",
       "Model:                          Logit   Df Residuals:                      276\n",
       "Method:                           MLE   Df Model:                            3\n",
       "Date:                Wed, 10 Apr 2024   Pseudo R-squ.:                  0.5808\n",
       "Time:                        20:37:04   Log-Likelihood:                -76.504\n",
       "converged:                       True   LL-Null:                       -182.49\n",
       "Covariance Type:            nonrobust   LLR p-value:                 1.089e-45\n",
       "==============================================================================\n",
       "                 coef    std err          z      P>|z|      [0.025      0.975]\n",
       "------------------------------------------------------------------------------\n",
       "PC1            1.5948      0.191      8.347      0.000       1.220       1.969\n",
       "PC2            0.2731      0.180      1.514      0.130      -0.080       0.627\n",
       "PC3            0.3341      0.163      2.047      0.041       0.014       0.654\n",
       "PC4           -0.2235      0.234     -0.954      0.340      -0.682       0.235\n",
       "==============================================================================\n",
       "\"\"\""
      ]
     },
     "execution_count": 507,
     "metadata": {},
     "output_type": "execute_result"
    }
   ],
   "source": [
    "model.summary()"
   ]
  },
  {
   "cell_type": "markdown",
   "metadata": {},
   "source": [
    "### **11. Feature Selection/Extraction**"
   ]
  },
  {
   "cell_type": "markdown",
   "metadata": {},
   "source": [
    "### **12. Classifier Comparison**"
   ]
  },
  {
   "cell_type": "markdown",
   "metadata": {},
   "source": [
    "### **13. Interpretable Classifier Insight**"
   ]
  },
  {
   "cell_type": "markdown",
   "metadata": {},
   "source": [
    "### **14. [Bonus] Sub-group Improvement Strategy**"
   ]
  },
  {
   "cell_type": "markdown",
   "metadata": {},
   "source": [
    "### **15. Team Contributions**"
   ]
  },
  {
   "cell_type": "markdown",
   "metadata": {},
   "source": [
    "### **16. Link to the public GitHub repository**"
   ]
  },
  {
   "cell_type": "markdown",
   "metadata": {},
   "source": [
    "https://github.com/Barkesty/Project-Chronic-Kidney-Disease-Classification-Challenge.git"
   ]
  }
 ],
 "metadata": {
  "kernelspec": {
   "display_name": "base",
   "language": "python",
   "name": "python3"
  },
  "language_info": {
   "codemirror_mode": {
    "name": "ipython",
    "version": 3
   },
   "file_extension": ".py",
   "mimetype": "text/x-python",
   "name": "python",
   "nbconvert_exporter": "python",
   "pygments_lexer": "ipython3",
   "version": "3.11.5"
  }
 },
 "nbformat": 4,
 "nbformat_minor": 2
}
